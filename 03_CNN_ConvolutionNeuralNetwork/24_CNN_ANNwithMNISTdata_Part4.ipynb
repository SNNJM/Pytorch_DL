{
 "cells": [
  {
   "cell_type": "code",
   "execution_count": 2,
   "id": "0e8d7a58",
   "metadata": {},
   "outputs": [],
   "source": [
    "import torch\n",
    "import torch.nn as nn\n",
    "import torch.nn.functional as F\n"
   ]
  },
  {
   "cell_type": "code",
   "execution_count": 3,
   "id": "cb2bf7af",
   "metadata": {},
   "outputs": [],
   "source": [
    "from torch.utils.data import DataLoader\n",
    "from torchvision import datasets, transforms"
   ]
  },
  {
   "cell_type": "code",
   "execution_count": 4,
   "id": "1b1bb0bb",
   "metadata": {},
   "outputs": [],
   "source": [
    "import numpy as np\n",
    "import pandas as pd\n",
    "from sklearn.metrics import confusion_matrix\n",
    "import matplotlib.pyplot as plt\n",
    "%matplotlib inline"
   ]
  },
  {
   "cell_type": "code",
   "execution_count": 5,
   "id": "d81be33e",
   "metadata": {},
   "outputs": [],
   "source": [
    "#grab MNIST IMAGE ----> TENSORS\n",
    "\n",
    "transform = transforms.ToTensor()\n",
    "\n"
   ]
  },
  {
   "cell_type": "code",
   "execution_count": 6,
   "id": "029c7bbc",
   "metadata": {},
   "outputs": [],
   "source": [
    "#Download train data\n",
    "#Train set the train must = True, if not it become test data\n",
    "train_data = datasets.MNIST(root='C:/Users/A221LPEN/Desktop/Pytorch_for_Deep_Learning/PYTORCH_NOTEBOOKS/myCodes/Data', train=True, download=True, transform=transform)"
   ]
  },
  {
   "cell_type": "code",
   "execution_count": 7,
   "id": "5b5d0a92",
   "metadata": {},
   "outputs": [],
   "source": [
    "#Download test data\n",
    "test_data = datasets.MNIST(root='C:/Users/A221LPEN/Desktop/Pytorch_for_Deep_Learning/PYTORCH_NOTEBOOKS/myCodes/Data', train=False, download=True, transform=transform)"
   ]
  },
  {
   "cell_type": "code",
   "execution_count": 8,
   "id": "c15f0eed",
   "metadata": {},
   "outputs": [
    {
     "data": {
      "text/plain": [
       "Dataset MNIST\n",
       "    Number of datapoints: 60000\n",
       "    Split: train\n",
       "    Root Location: C:/Users/A221LPEN/Desktop/Pytorch_for_Deep_Learning/PYTORCH_NOTEBOOKS/myCodes/Data\n",
       "    Transforms (if any): ToTensor()\n",
       "    Target Transforms (if any): None"
      ]
     },
     "execution_count": 8,
     "metadata": {},
     "output_type": "execute_result"
    }
   ],
   "source": [
    "train_data"
   ]
  },
  {
   "cell_type": "code",
   "execution_count": 9,
   "id": "ee91ac55",
   "metadata": {},
   "outputs": [
    {
     "data": {
      "text/plain": [
       "Dataset MNIST\n",
       "    Number of datapoints: 10000\n",
       "    Split: test\n",
       "    Root Location: C:/Users/A221LPEN/Desktop/Pytorch_for_Deep_Learning/PYTORCH_NOTEBOOKS/myCodes/Data\n",
       "    Transforms (if any): ToTensor()\n",
       "    Target Transforms (if any): None"
      ]
     },
     "execution_count": 9,
     "metadata": {},
     "output_type": "execute_result"
    }
   ],
   "source": [
    "test_data"
   ]
  },
  {
   "cell_type": "code",
   "execution_count": 10,
   "id": "a973696d",
   "metadata": {},
   "outputs": [
    {
     "data": {
      "text/plain": [
       "torchvision.datasets.mnist.MNIST"
      ]
     },
     "execution_count": 10,
     "metadata": {},
     "output_type": "execute_result"
    }
   ],
   "source": [
    "type(train_data)"
   ]
  },
  {
   "cell_type": "code",
   "execution_count": 11,
   "id": "bcd896d5",
   "metadata": {},
   "outputs": [
    {
     "data": {
      "text/plain": [
       "(tensor([[[0.0000, 0.0000, 0.0000, 0.0000, 0.0000, 0.0000, 0.0000, 0.0000,\n",
       "           0.0000, 0.0000, 0.0000, 0.0000, 0.0000, 0.0000, 0.0000, 0.0000,\n",
       "           0.0000, 0.0000, 0.0000, 0.0000, 0.0000, 0.0000, 0.0000, 0.0000,\n",
       "           0.0000, 0.0000, 0.0000, 0.0000],\n",
       "          [0.0000, 0.0000, 0.0000, 0.0000, 0.0000, 0.0000, 0.0000, 0.0000,\n",
       "           0.0000, 0.0000, 0.0000, 0.0000, 0.0000, 0.0000, 0.0000, 0.0000,\n",
       "           0.0000, 0.0000, 0.0000, 0.0000, 0.0000, 0.0000, 0.0000, 0.0000,\n",
       "           0.0000, 0.0000, 0.0000, 0.0000],\n",
       "          [0.0000, 0.0000, 0.0000, 0.0000, 0.0000, 0.0000, 0.0000, 0.0000,\n",
       "           0.0000, 0.0000, 0.0000, 0.0000, 0.0000, 0.0000, 0.0000, 0.0000,\n",
       "           0.0000, 0.0000, 0.0000, 0.0000, 0.0000, 0.0000, 0.0000, 0.0000,\n",
       "           0.0000, 0.0000, 0.0000, 0.0000],\n",
       "          [0.0000, 0.0000, 0.0000, 0.0000, 0.0000, 0.0000, 0.0000, 0.0000,\n",
       "           0.0000, 0.0000, 0.0000, 0.0000, 0.0000, 0.0000, 0.0000, 0.0000,\n",
       "           0.0000, 0.0000, 0.0000, 0.0000, 0.0000, 0.0000, 0.0000, 0.0000,\n",
       "           0.0000, 0.0000, 0.0000, 0.0000],\n",
       "          [0.0000, 0.0000, 0.0000, 0.0000, 0.0000, 0.0000, 0.0000, 0.0000,\n",
       "           0.0000, 0.0000, 0.0000, 0.0000, 0.0000, 0.0000, 0.0000, 0.0000,\n",
       "           0.0000, 0.0000, 0.0000, 0.0000, 0.0000, 0.0000, 0.0000, 0.0000,\n",
       "           0.0000, 0.0000, 0.0000, 0.0000],\n",
       "          [0.0000, 0.0000, 0.0000, 0.0000, 0.0000, 0.0000, 0.0000, 0.0000,\n",
       "           0.0000, 0.0000, 0.0000, 0.0000, 0.0118, 0.0706, 0.0706, 0.0706,\n",
       "           0.4941, 0.5333, 0.6863, 0.1020, 0.6510, 1.0000, 0.9686, 0.4980,\n",
       "           0.0000, 0.0000, 0.0000, 0.0000],\n",
       "          [0.0000, 0.0000, 0.0000, 0.0000, 0.0000, 0.0000, 0.0000, 0.0000,\n",
       "           0.1176, 0.1412, 0.3686, 0.6039, 0.6667, 0.9922, 0.9922, 0.9922,\n",
       "           0.9922, 0.9922, 0.8824, 0.6745, 0.9922, 0.9490, 0.7647, 0.2510,\n",
       "           0.0000, 0.0000, 0.0000, 0.0000],\n",
       "          [0.0000, 0.0000, 0.0000, 0.0000, 0.0000, 0.0000, 0.0000, 0.1922,\n",
       "           0.9333, 0.9922, 0.9922, 0.9922, 0.9922, 0.9922, 0.9922, 0.9922,\n",
       "           0.9922, 0.9843, 0.3647, 0.3216, 0.3216, 0.2196, 0.1529, 0.0000,\n",
       "           0.0000, 0.0000, 0.0000, 0.0000],\n",
       "          [0.0000, 0.0000, 0.0000, 0.0000, 0.0000, 0.0000, 0.0000, 0.0706,\n",
       "           0.8588, 0.9922, 0.9922, 0.9922, 0.9922, 0.9922, 0.7765, 0.7137,\n",
       "           0.9686, 0.9451, 0.0000, 0.0000, 0.0000, 0.0000, 0.0000, 0.0000,\n",
       "           0.0000, 0.0000, 0.0000, 0.0000],\n",
       "          [0.0000, 0.0000, 0.0000, 0.0000, 0.0000, 0.0000, 0.0000, 0.0000,\n",
       "           0.3137, 0.6118, 0.4196, 0.9922, 0.9922, 0.8039, 0.0431, 0.0000,\n",
       "           0.1686, 0.6039, 0.0000, 0.0000, 0.0000, 0.0000, 0.0000, 0.0000,\n",
       "           0.0000, 0.0000, 0.0000, 0.0000],\n",
       "          [0.0000, 0.0000, 0.0000, 0.0000, 0.0000, 0.0000, 0.0000, 0.0000,\n",
       "           0.0000, 0.0549, 0.0039, 0.6039, 0.9922, 0.3529, 0.0000, 0.0000,\n",
       "           0.0000, 0.0000, 0.0000, 0.0000, 0.0000, 0.0000, 0.0000, 0.0000,\n",
       "           0.0000, 0.0000, 0.0000, 0.0000],\n",
       "          [0.0000, 0.0000, 0.0000, 0.0000, 0.0000, 0.0000, 0.0000, 0.0000,\n",
       "           0.0000, 0.0000, 0.0000, 0.5451, 0.9922, 0.7451, 0.0078, 0.0000,\n",
       "           0.0000, 0.0000, 0.0000, 0.0000, 0.0000, 0.0000, 0.0000, 0.0000,\n",
       "           0.0000, 0.0000, 0.0000, 0.0000],\n",
       "          [0.0000, 0.0000, 0.0000, 0.0000, 0.0000, 0.0000, 0.0000, 0.0000,\n",
       "           0.0000, 0.0000, 0.0000, 0.0431, 0.7451, 0.9922, 0.2745, 0.0000,\n",
       "           0.0000, 0.0000, 0.0000, 0.0000, 0.0000, 0.0000, 0.0000, 0.0000,\n",
       "           0.0000, 0.0000, 0.0000, 0.0000],\n",
       "          [0.0000, 0.0000, 0.0000, 0.0000, 0.0000, 0.0000, 0.0000, 0.0000,\n",
       "           0.0000, 0.0000, 0.0000, 0.0000, 0.1373, 0.9451, 0.8824, 0.6275,\n",
       "           0.4235, 0.0039, 0.0000, 0.0000, 0.0000, 0.0000, 0.0000, 0.0000,\n",
       "           0.0000, 0.0000, 0.0000, 0.0000],\n",
       "          [0.0000, 0.0000, 0.0000, 0.0000, 0.0000, 0.0000, 0.0000, 0.0000,\n",
       "           0.0000, 0.0000, 0.0000, 0.0000, 0.0000, 0.3176, 0.9412, 0.9922,\n",
       "           0.9922, 0.4667, 0.0980, 0.0000, 0.0000, 0.0000, 0.0000, 0.0000,\n",
       "           0.0000, 0.0000, 0.0000, 0.0000],\n",
       "          [0.0000, 0.0000, 0.0000, 0.0000, 0.0000, 0.0000, 0.0000, 0.0000,\n",
       "           0.0000, 0.0000, 0.0000, 0.0000, 0.0000, 0.0000, 0.1765, 0.7294,\n",
       "           0.9922, 0.9922, 0.5882, 0.1059, 0.0000, 0.0000, 0.0000, 0.0000,\n",
       "           0.0000, 0.0000, 0.0000, 0.0000],\n",
       "          [0.0000, 0.0000, 0.0000, 0.0000, 0.0000, 0.0000, 0.0000, 0.0000,\n",
       "           0.0000, 0.0000, 0.0000, 0.0000, 0.0000, 0.0000, 0.0000, 0.0627,\n",
       "           0.3647, 0.9882, 0.9922, 0.7333, 0.0000, 0.0000, 0.0000, 0.0000,\n",
       "           0.0000, 0.0000, 0.0000, 0.0000],\n",
       "          [0.0000, 0.0000, 0.0000, 0.0000, 0.0000, 0.0000, 0.0000, 0.0000,\n",
       "           0.0000, 0.0000, 0.0000, 0.0000, 0.0000, 0.0000, 0.0000, 0.0000,\n",
       "           0.0000, 0.9765, 0.9922, 0.9765, 0.2510, 0.0000, 0.0000, 0.0000,\n",
       "           0.0000, 0.0000, 0.0000, 0.0000],\n",
       "          [0.0000, 0.0000, 0.0000, 0.0000, 0.0000, 0.0000, 0.0000, 0.0000,\n",
       "           0.0000, 0.0000, 0.0000, 0.0000, 0.0000, 0.0000, 0.1804, 0.5098,\n",
       "           0.7176, 0.9922, 0.9922, 0.8118, 0.0078, 0.0000, 0.0000, 0.0000,\n",
       "           0.0000, 0.0000, 0.0000, 0.0000],\n",
       "          [0.0000, 0.0000, 0.0000, 0.0000, 0.0000, 0.0000, 0.0000, 0.0000,\n",
       "           0.0000, 0.0000, 0.0000, 0.0000, 0.1529, 0.5804, 0.8980, 0.9922,\n",
       "           0.9922, 0.9922, 0.9804, 0.7137, 0.0000, 0.0000, 0.0000, 0.0000,\n",
       "           0.0000, 0.0000, 0.0000, 0.0000],\n",
       "          [0.0000, 0.0000, 0.0000, 0.0000, 0.0000, 0.0000, 0.0000, 0.0000,\n",
       "           0.0000, 0.0000, 0.0941, 0.4471, 0.8667, 0.9922, 0.9922, 0.9922,\n",
       "           0.9922, 0.7882, 0.3059, 0.0000, 0.0000, 0.0000, 0.0000, 0.0000,\n",
       "           0.0000, 0.0000, 0.0000, 0.0000],\n",
       "          [0.0000, 0.0000, 0.0000, 0.0000, 0.0000, 0.0000, 0.0000, 0.0000,\n",
       "           0.0902, 0.2588, 0.8353, 0.9922, 0.9922, 0.9922, 0.9922, 0.7765,\n",
       "           0.3176, 0.0078, 0.0000, 0.0000, 0.0000, 0.0000, 0.0000, 0.0000,\n",
       "           0.0000, 0.0000, 0.0000, 0.0000],\n",
       "          [0.0000, 0.0000, 0.0000, 0.0000, 0.0000, 0.0000, 0.0706, 0.6706,\n",
       "           0.8588, 0.9922, 0.9922, 0.9922, 0.9922, 0.7647, 0.3137, 0.0353,\n",
       "           0.0000, 0.0000, 0.0000, 0.0000, 0.0000, 0.0000, 0.0000, 0.0000,\n",
       "           0.0000, 0.0000, 0.0000, 0.0000],\n",
       "          [0.0000, 0.0000, 0.0000, 0.0000, 0.2157, 0.6745, 0.8863, 0.9922,\n",
       "           0.9922, 0.9922, 0.9922, 0.9569, 0.5216, 0.0431, 0.0000, 0.0000,\n",
       "           0.0000, 0.0000, 0.0000, 0.0000, 0.0000, 0.0000, 0.0000, 0.0000,\n",
       "           0.0000, 0.0000, 0.0000, 0.0000],\n",
       "          [0.0000, 0.0000, 0.0000, 0.0000, 0.5333, 0.9922, 0.9922, 0.9922,\n",
       "           0.8314, 0.5294, 0.5176, 0.0627, 0.0000, 0.0000, 0.0000, 0.0000,\n",
       "           0.0000, 0.0000, 0.0000, 0.0000, 0.0000, 0.0000, 0.0000, 0.0000,\n",
       "           0.0000, 0.0000, 0.0000, 0.0000],\n",
       "          [0.0000, 0.0000, 0.0000, 0.0000, 0.0000, 0.0000, 0.0000, 0.0000,\n",
       "           0.0000, 0.0000, 0.0000, 0.0000, 0.0000, 0.0000, 0.0000, 0.0000,\n",
       "           0.0000, 0.0000, 0.0000, 0.0000, 0.0000, 0.0000, 0.0000, 0.0000,\n",
       "           0.0000, 0.0000, 0.0000, 0.0000],\n",
       "          [0.0000, 0.0000, 0.0000, 0.0000, 0.0000, 0.0000, 0.0000, 0.0000,\n",
       "           0.0000, 0.0000, 0.0000, 0.0000, 0.0000, 0.0000, 0.0000, 0.0000,\n",
       "           0.0000, 0.0000, 0.0000, 0.0000, 0.0000, 0.0000, 0.0000, 0.0000,\n",
       "           0.0000, 0.0000, 0.0000, 0.0000],\n",
       "          [0.0000, 0.0000, 0.0000, 0.0000, 0.0000, 0.0000, 0.0000, 0.0000,\n",
       "           0.0000, 0.0000, 0.0000, 0.0000, 0.0000, 0.0000, 0.0000, 0.0000,\n",
       "           0.0000, 0.0000, 0.0000, 0.0000, 0.0000, 0.0000, 0.0000, 0.0000,\n",
       "           0.0000, 0.0000, 0.0000, 0.0000]]]),\n",
       " 5)"
      ]
     },
     "execution_count": 11,
     "metadata": {},
     "output_type": "execute_result"
    }
   ],
   "source": [
    "train_data[0]"
   ]
  },
  {
   "cell_type": "code",
   "execution_count": 12,
   "id": "c140df08",
   "metadata": {},
   "outputs": [
    {
     "data": {
      "text/plain": [
       "tuple"
      ]
     },
     "execution_count": 12,
     "metadata": {},
     "output_type": "execute_result"
    }
   ],
   "source": [
    "type(train_data[0])"
   ]
  },
  {
   "cell_type": "code",
   "execution_count": 13,
   "id": "37419f31",
   "metadata": {},
   "outputs": [],
   "source": [
    "image,label = train_data[0]"
   ]
  },
  {
   "cell_type": "code",
   "execution_count": 14,
   "id": "5bce3552",
   "metadata": {},
   "outputs": [
    {
     "data": {
      "text/plain": [
       "torch.Size([1, 28, 28])"
      ]
     },
     "execution_count": 14,
     "metadata": {},
     "output_type": "execute_result"
    }
   ],
   "source": [
    "image.shape # the 1=grayscale, single colour channel, sometimes -1 to 1 instead 0 to 1 "
   ]
  },
  {
   "cell_type": "code",
   "execution_count": 15,
   "id": "4315e5d9",
   "metadata": {},
   "outputs": [
    {
     "data": {
      "text/plain": [
       "5"
      ]
     },
     "execution_count": 15,
     "metadata": {},
     "output_type": "execute_result"
    }
   ],
   "source": [
    "label"
   ]
  },
  {
   "cell_type": "code",
   "execution_count": 16,
   "id": "f1ff3fac",
   "metadata": {},
   "outputs": [
    {
     "data": {
      "text/plain": [
       "<matplotlib.image.AxesImage at 0x262232debe0>"
      ]
     },
     "execution_count": 16,
     "metadata": {},
     "output_type": "execute_result"
    },
    {
     "data": {
      "image/png": "[encoded data removed]",
      "text/plain": [
       "<Figure size 432x288 with 1 Axes>"
      ]
     },
     "metadata": {
      "needs_background": "light"
     },
     "output_type": "display_data"
    }
   ],
   "source": [
    "plt.imshow(image.reshape((28,28)))\n",
    "#Displays an image, drop the info abour grayscale\n",
    "#the program will know it by default\n",
    "#matplotlib has default colour mapping --viridis\n"
   ]
  },
  {
   "cell_type": "code",
   "execution_count": 17,
   "id": "d568c040",
   "metadata": {},
   "outputs": [
    {
     "data": {
      "text/plain": [
       "<matplotlib.image.AxesImage at 0x2622336dc50>"
      ]
     },
     "execution_count": 17,
     "metadata": {},
     "output_type": "execute_result"
    },
    {
     "data": {
      "image/png": "[encoded data removed]",
      "text/plain": [
       "<Figure size 432x288 with 1 Axes>"
      ]
     },
     "metadata": {
      "needs_background": "light"
     },
     "output_type": "display_data"
    }
   ],
   "source": [
    "#to view in grayscale\n",
    "plt.imshow(image.reshape((28,28)),cmap='gray') #or use gist_yarg for reversed"
   ]
  },
  {
   "cell_type": "code",
   "execution_count": 18,
   "id": "83f4e32c",
   "metadata": {},
   "outputs": [],
   "source": [
    "#lots of parameters required to train the 60k data\n",
    "#therefore it makes sense to train in batches\n",
    "#grab subsets of the 60k images & load them in\n",
    "torch.manual_seed(101) #take the data from random shuffle\n",
    "\n",
    "train_loader = DataLoader(train_data,batch_size=100,shuffle=True) #feed 100 images at a time out of the 60k into network images\n",
    "#shuffle the data to make the program able to generelized the data 0 and 1 instead of focusing/learning on 1 type of data\n",
    "\n",
    "test_loader = DataLoader(test_data,batch_size=500,shuffle=False)"
   ]
  },
  {
   "cell_type": "code",
   "execution_count": 19,
   "id": "5dabc144",
   "metadata": {},
   "outputs": [],
   "source": [
    "#Note: train data is  the Pytorch dataset objects--objects that supports data loading & sampling\n",
    "#batch size is number of records we process at a time\n",
    "#If its not evenly divisable into dataset,then the final batch would contain that remainder\n",
    "#setting the shuffle to True means that the dataset will be shuffled after each epoch\n"
   ]
  },
  {
   "cell_type": "code",
   "execution_count": 20,
   "id": "e95e67ad",
   "metadata": {},
   "outputs": [],
   "source": [
    "from torchvision.utils import make_grid  #make grid line\n",
    "np.set_printoptions(formatter=dict(int=lambda x: f'{x:4}')) #FORMATTING\n"
   ]
  },
  {
   "cell_type": "code",
   "execution_count": 21,
   "id": "7ae2d6e1",
   "metadata": {},
   "outputs": [],
   "source": [
    "#FIRST BATCH\n",
    "for images,labels in train_loader:\n",
    "    #60K /100 ---this for loop will run 60 times\n",
    "    #to get the first batch ONLY, adds in break\n",
    "    break"
   ]
  },
  {
   "cell_type": "code",
   "execution_count": 22,
   "id": "e1a41890",
   "metadata": {},
   "outputs": [
    {
     "data": {
      "text/plain": [
       "torch.Size([100, 1, 28, 28])"
      ]
     },
     "execution_count": 22,
     "metadata": {},
     "output_type": "execute_result"
    }
   ],
   "source": [
    "images.shape #shape is (batch, colour channel, width, height)"
   ]
  },
  {
   "cell_type": "code",
   "execution_count": 23,
   "id": "591903b4",
   "metadata": {},
   "outputs": [
    {
     "data": {
      "text/plain": [
       "torch.Size([100])"
      ]
     },
     "execution_count": 23,
     "metadata": {},
     "output_type": "execute_result"
    }
   ],
   "source": [
    "labels.shape"
   ]
  },
  {
   "cell_type": "code",
   "execution_count": 24,
   "id": "4ef226cb",
   "metadata": {},
   "outputs": [
    {
     "name": "stdout",
     "output_type": "stream",
     "text": [
      "Labels [   0    5    7    8    6    7    9    7    1    3    8    4]\n"
     ]
    },
    {
     "data": {
      "image/png": "[encoded data removed]",
      "text/plain": [
       "<Figure size 720x288 with 1 Axes>"
      ]
     },
     "metadata": {
      "needs_background": "light"
     },
     "output_type": "display_data"
    }
   ],
   "source": [
    "#print first 12 labels\n",
    "print('Labels', labels[:12].numpy())\n",
    "\n",
    "#print the first 12 images\n",
    "im = make_grid(images[:12], nrow=12) #default nrow is 8\n",
    "plt.figure(figsize=(10,4))\n",
    "#transpose images from CWH to WHC\n",
    "plt.imshow(np.transpose(im.numpy(), (1,2,0)));\n"
   ]
  },
  {
   "cell_type": "code",
   "execution_count": 24,
   "id": "7d1bddd9",
   "metadata": {},
   "outputs": [],
   "source": [
    "#this is rather sloppy, 6 might be mistaken as 4"
   ]
  },
  {
   "cell_type": "code",
   "execution_count": null,
   "id": "10c9abd4",
   "metadata": {},
   "outputs": [],
   "source": []
  },
  {
   "cell_type": "code",
   "execution_count": null,
   "id": "ade62b9c",
   "metadata": {},
   "outputs": [],
   "source": []
  },
  {
   "cell_type": "code",
   "execution_count": null,
   "id": "ad604adb",
   "metadata": {},
   "outputs": [],
   "source": []
  },
  {
   "cell_type": "code",
   "execution_count": 25,
   "id": "6a549eb8",
   "metadata": {},
   "outputs": [],
   "source": [
    "#PART 2 --Creating network"
   ]
  },
  {
   "cell_type": "code",
   "execution_count": 25,
   "id": "1f3ad171",
   "metadata": {},
   "outputs": [],
   "source": [
    "#create a normal multilayer perceptron model\n",
    "class MultilayerPerceptron(nn.Module):\n",
    "    \n",
    "    def __init__(self,in_sz=784,out_sz=10,layers=[120,84]):\n",
    "        \n",
    "        super().__init__()\n",
    "        \n",
    "        #fully connected layer\n",
    "        self.fc1 = nn.Linear(in_sz,layers[0]) #connect input layer to layer 0 or 120\n",
    "        self.fc2 = nn.Linear(layers[0],layers[1])\n",
    "        self.fc3 = nn.Linear(layers[1],out_sz)\n",
    "        \n",
    "        \n",
    "    def forward(self,X):\n",
    "        \n",
    "        X = F.relu(self.fc1(X)) #relu as activation fn, parse in fully connvected layer 1 with X\n",
    "        X = F.relu(self.fc2(X))\n",
    "        X = self.fc3(X)\n",
    "        \n",
    "        return F.log_softmax(X,dim=1) #MULTI CLASS CLASSIFICATION\n",
    "        "
   ]
  },
  {
   "cell_type": "code",
   "execution_count": 26,
   "id": "8b1e47c7",
   "metadata": {},
   "outputs": [
    {
     "data": {
      "text/plain": [
       "MultilayerPerceptron(\n",
       "  (fc1): Linear(in_features=784, out_features=120, bias=True)\n",
       "  (fc2): Linear(in_features=120, out_features=84, bias=True)\n",
       "  (fc3): Linear(in_features=84, out_features=10, bias=True)\n",
       ")"
      ]
     },
     "execution_count": 26,
     "metadata": {},
     "output_type": "execute_result"
    }
   ],
   "source": [
    "torch.manual_seed(101)\n",
    "model = MultilayerPerceptron()\n",
    "model"
   ]
  },
  {
   "cell_type": "code",
   "execution_count": 27,
   "id": "06ed2819",
   "metadata": {},
   "outputs": [
    {
     "name": "stdout",
     "output_type": "stream",
     "text": [
      "94080\n",
      "120\n",
      "10080\n",
      "84\n",
      "840\n",
      "10\n"
     ]
    }
   ],
   "source": [
    "# ANN ---> CNN\n",
    "#CNN architecture is more efficient \n",
    "for param in model.parameters():\n",
    "    print(param.numel())"
   ]
  },
  {
   "cell_type": "code",
   "execution_count": 27,
   "id": "d430f390",
   "metadata": {},
   "outputs": [],
   "source": [
    "# Connection=94080,Biases=120,Connection to next layer=10080, Biases=84,Cnnection to next layer=840, output neuron =10"
   ]
  },
  {
   "cell_type": "code",
   "execution_count": 28,
   "id": "7be90a3b",
   "metadata": {},
   "outputs": [],
   "source": [
    "# 105214 total parameters--these are all adjusted by network (less parameter = more efficient)\n"
   ]
  },
  {
   "cell_type": "code",
   "execution_count": 28,
   "id": "d1376eee",
   "metadata": {},
   "outputs": [],
   "source": [
    "criterion = nn.CrossEntropyLoss()\n",
    "optimizer = torch.optim.Adam(model.parameters(),lr=0.001)"
   ]
  },
  {
   "cell_type": "code",
   "execution_count": 29,
   "id": "7f2e7387",
   "metadata": {},
   "outputs": [
    {
     "data": {
      "text/plain": [
       "torch.Size([100, 1, 28, 28])"
      ]
     },
     "execution_count": 29,
     "metadata": {},
     "output_type": "execute_result"
    }
   ],
   "source": [
    "images.shape #convert the shape into single dimension [100,784]--flatten"
   ]
  },
  {
   "cell_type": "code",
   "execution_count": 30,
   "id": "dd6c7430",
   "metadata": {},
   "outputs": [
    {
     "data": {
      "text/plain": [
       "torch.Size([100, 784])"
      ]
     },
     "execution_count": 30,
     "metadata": {},
     "output_type": "execute_result"
    }
   ],
   "source": [
    "images.view(100,-1).shape #-1 means grab the rest of dimension & combine them into single dimension\n"
   ]
  },
  {
   "cell_type": "code",
   "execution_count": null,
   "id": "73692607",
   "metadata": {},
   "outputs": [],
   "source": []
  },
  {
   "cell_type": "code",
   "execution_count": null,
   "id": "57689b1e",
   "metadata": {},
   "outputs": [],
   "source": []
  },
  {
   "cell_type": "code",
   "execution_count": null,
   "id": "07fecbbc",
   "metadata": {},
   "outputs": [],
   "source": []
  },
  {
   "cell_type": "code",
   "execution_count": 31,
   "id": "597c57fc",
   "metadata": {},
   "outputs": [
    {
     "name": "stdout",
     "output_type": "stream",
     "text": [
      "Epoch 0 batch200 loss:0.2805540859699249 accuracy:83.04\n",
      "Epoch 0 batch400 loss:0.20303486287593842 accuracy:87.325\n",
      "Epoch 0 batch600 loss:0.20227622985839844 accuracy:89.32333333333334\n",
      "Epoch 1 batch200 loss:0.1445707082748413 accuracy:94.56\n",
      "Epoch 1 batch400 loss:0.10489675402641296 accuracy:95.11\n",
      "Epoch 1 batch600 loss:0.12034713476896286 accuracy:95.34666666666666\n",
      "Epoch 2 batch200 loss:0.11627233773469925 accuracy:96.53\n",
      "Epoch 2 batch400 loss:0.08906286954879761 accuracy:96.615\n",
      "Epoch 2 batch600 loss:0.10235458612442017 accuracy:96.74\n",
      "Epoch 3 batch200 loss:0.053589120507240295 accuracy:97.475\n",
      "Epoch 3 batch400 loss:0.05533469840884209 accuracy:97.485\n",
      "Epoch 3 batch600 loss:0.05723271518945694 accuracy:97.51\n",
      "Epoch 4 batch200 loss:0.1291753351688385 accuracy:97.96\n",
      "Epoch 4 batch400 loss:0.09339297562837601 accuracy:97.995\n",
      "Epoch 4 batch600 loss:0.13001050055027008 accuracy:98.03333333333333\n",
      "Epoch 5 batch200 loss:0.0457569845020771 accuracy:98.31\n",
      "Epoch 5 batch400 loss:0.043589748442173004 accuracy:98.3575\n",
      "Epoch 5 batch600 loss:0.05125651881098747 accuracy:98.35666666666667\n",
      "Epoch 6 batch200 loss:0.003352375002577901 accuracy:98.995\n",
      "Epoch 6 batch400 loss:0.060488950461149216 accuracy:98.84\n",
      "Epoch 6 batch600 loss:0.07268734276294708 accuracy:98.71166666666667\n",
      "Epoch 7 batch200 loss:0.03270246833562851 accuracy:99.145\n",
      "Epoch 7 batch400 loss:0.03333976864814758 accuracy:99.055\n",
      "Epoch 7 batch600 loss:0.052746739238500595 accuracy:98.97833333333334\n",
      "Epoch 8 batch200 loss:0.012483596801757812 accuracy:99.315\n",
      "Epoch 8 batch400 loss:0.03223487362265587 accuracy:99.1625\n",
      "Epoch 8 batch600 loss:0.004754902794957161 accuracy:99.05833333333334\n",
      "Epoch 9 batch200 loss:0.019343195483088493 accuracy:99.255\n",
      "Epoch 9 batch400 loss:0.0016211019828915596 accuracy:99.2975\n",
      "Epoch 9 batch600 loss:0.009299064986407757 accuracy:99.235\n",
      "Duration: 3.9127277533213296 mins\n"
     ]
    }
   ],
   "source": [
    "#PART 3 ---> TRAINING & EVALUATION\n",
    "import time\n",
    "start_time = time.time()\n",
    "\n",
    "\n",
    "#TRAINING\n",
    "\n",
    "epochs = 10\n",
    "#TRACKERS\n",
    "train_losses = []\n",
    "test_losses = []\n",
    "train_correct = []\n",
    "test_correct = []\n",
    "\n",
    "for i in range(epochs):\n",
    "    \n",
    "    trn_corr = 0\n",
    "    tst_corr = 0\n",
    "    \n",
    "    for b, (X_train,y_train) in enumerate(train_loader): \n",
    "    #train_loader returns image(X_train) and its label (y_train)\n",
    "    #enumerate = keep track of the batch with b\n",
    "        b+=1 #start at 1 instead 0\n",
    "        y_pred = model(X_train.view(100,-1))\n",
    "        #this would perform poorly \n",
    "        #rand init of weight&biases, go ahead & predict based of X_train, what the y label should be (y_train)\n",
    "        #then we'll have the y_pred & we should compare it to y_train to evaluate loss\n",
    "        loss = criterion(y_pred,y_train)\n",
    "        \n",
    "        #in the 10 neurons, the probability would be [min...max] --> [0.1,0.0....,0.8]\n",
    "        #grab the max value & index it to transform into predicted number eg 9 instead of probability\n",
    "        predicted = torch.max(y_pred.data,1)[1]\n",
    "        batch_corr = (predicted == y_train).sum() #calc how many correct of this batch\n",
    "        trn_corr += batch_corr\n",
    "        \n",
    "        #update parameters\n",
    "        optimizer.zero_grad()\n",
    "        loss.backward()\n",
    "        optimizer.step()\n",
    "        \n",
    "    \n",
    "        if b%200 == 0: #if batch evenly divisable by 200,\n",
    "            acc = trn_corr.item()*100/(100*b) #calc accuracy\n",
    "            print(f'Epoch {i} batch{b} loss:{loss.item()} accuracy:{acc}')\n",
    "            \n",
    "    train_losses.append(loss)\n",
    "    train_correct.append(trn_corr)\n",
    "   \n",
    "    #run test data during training to check how the test validation is going down\n",
    "    #eventually the return of test data should be lesser\n",
    "    with torch.no_grad():\n",
    "        for b, (X_test,y_test) in enumerate(test_loader):\n",
    "            y_val = model(X_test.view(500,-1)) #flatten 500 batch size for test\n",
    "            \n",
    "            predicted = torch.max(y_val.data,1)[1]\n",
    "            tst_corr += (predicted==y_test).sum()\n",
    "            \n",
    "        loss = criterion(y_val,y_test)\n",
    "        test_losses.append(loss)\n",
    "        test_correct.append(tst_corr)\n",
    "        \n",
    "\n",
    "\n",
    "\n",
    "total_time = time.time() - start_time\n",
    "print(f'Duration: {total_time/60} mins')"
   ]
  },
  {
   "cell_type": "code",
   "execution_count": null,
   "id": "c72c02ef",
   "metadata": {},
   "outputs": [],
   "source": []
  },
  {
   "cell_type": "code",
   "execution_count": null,
   "id": "98e85ea4",
   "metadata": {},
   "outputs": [],
   "source": []
  },
  {
   "cell_type": "code",
   "execution_count": null,
   "id": "1ac46933",
   "metadata": {},
   "outputs": [],
   "source": []
  },
  {
   "cell_type": "code",
   "execution_count": null,
   "id": "d92054e2",
   "metadata": {},
   "outputs": [],
   "source": [
    "#PART 4 --->EVALUATION & PERFORMANCE"
   ]
  },
  {
   "cell_type": "code",
   "execution_count": 55,
   "id": "d1e2cc2a",
   "metadata": {},
   "outputs": [
    {
     "data": {
      "text/plain": [
       "<matplotlib.legend.Legend at 0x2622480ce10>"
      ]
     },
     "execution_count": 55,
     "metadata": {},
     "output_type": "execute_result"
    },
    {
     "data": {
      "image/png": "[encoded data removed]",
      "text/plain": [
       "<Figure size 432x288 with 1 Axes>"
      ]
     },
     "metadata": {
      "needs_background": "light"
     },
     "output_type": "display_data"
    }
   ],
   "source": [
    "plt.plot(train_losses,label='Training Loss')\n",
    "plt.legend()"
   ]
  },
  {
   "cell_type": "code",
   "execution_count": 56,
   "id": "3c92fb02",
   "metadata": {},
   "outputs": [
    {
     "data": {
      "text/plain": [
       "<matplotlib.legend.Legend at 0x26224860390>"
      ]
     },
     "execution_count": 56,
     "metadata": {},
     "output_type": "execute_result"
    },
    {
     "data": {
      "image/png": "[encoded data removed]",
      "text/plain": [
       "<Figure size 432x288 with 1 Axes>"
      ]
     },
     "metadata": {
      "needs_background": "light"
     },
     "output_type": "display_data"
    }
   ],
   "source": [
    "#COMPARE TO TEST LOSSES\n",
    "plt.plot(train_losses,label='Training Loss')\n",
    "plt.plot(test_losses,label='Test/Validation Loss')\n",
    "plt.legend()"
   ]
  },
  {
   "cell_type": "code",
   "execution_count": 57,
   "id": "cf53f8ae",
   "metadata": {},
   "outputs": [],
   "source": [
    "#Test data higher thatn Training data\n",
    "#Test didn't do that well compared to Teaining since they are new dataset to the network (network nvr seen before)\n",
    "#and weight and biases are not allowed to be adjusted in the test data"
   ]
  },
  {
   "cell_type": "code",
   "execution_count": 58,
   "id": "9c36fc39",
   "metadata": {},
   "outputs": [
    {
     "data": {
      "text/plain": [
       "[tensor(53594),\n",
       " tensor(57208),\n",
       " tensor(58044),\n",
       " tensor(58506),\n",
       " tensor(58820),\n",
       " tensor(59014),\n",
       " tensor(59227),\n",
       " tensor(59387),\n",
       " tensor(59435),\n",
       " tensor(59541)]"
      ]
     },
     "execution_count": 58,
     "metadata": {},
     "output_type": "execute_result"
    }
   ],
   "source": [
    "train_correct"
   ]
  },
  {
   "cell_type": "code",
   "execution_count": 59,
   "id": "d4a8d36f",
   "metadata": {},
   "outputs": [],
   "source": [
    "#calc train accuracy\n",
    "train_acc = [t/600 for t in train_correct]"
   ]
  },
  {
   "cell_type": "code",
   "execution_count": 60,
   "id": "4b26e200",
   "metadata": {},
   "outputs": [
    {
     "data": {
      "text/plain": [
       "[tensor(89),\n",
       " tensor(95),\n",
       " tensor(96),\n",
       " tensor(97),\n",
       " tensor(98),\n",
       " tensor(98),\n",
       " tensor(98),\n",
       " tensor(98),\n",
       " tensor(99),\n",
       " tensor(99)]"
      ]
     },
     "execution_count": 60,
     "metadata": {},
     "output_type": "execute_result"
    }
   ],
   "source": [
    "train_acc"
   ]
  },
  {
   "cell_type": "raw",
   "id": "bca56a87",
   "metadata": {},
   "source": []
  },
  {
   "cell_type": "code",
   "execution_count": 61,
   "id": "14d2f60c",
   "metadata": {},
   "outputs": [],
   "source": [
    "#calc test accuracy\n",
    "test_acc = [t/100 for t in test_correct]"
   ]
  },
  {
   "cell_type": "code",
   "execution_count": 62,
   "id": "7ceb1c52",
   "metadata": {},
   "outputs": [
    {
     "data": {
      "text/plain": [
       "[tensor(94),\n",
       " tensor(96),\n",
       " tensor(96),\n",
       " tensor(97),\n",
       " tensor(97),\n",
       " tensor(97),\n",
       " tensor(97),\n",
       " tensor(97),\n",
       " tensor(97),\n",
       " tensor(97)]"
      ]
     },
     "execution_count": 62,
     "metadata": {},
     "output_type": "execute_result"
    }
   ],
   "source": [
    "test_acc"
   ]
  },
  {
   "cell_type": "code",
   "execution_count": 63,
   "id": "0aa2ce5d",
   "metadata": {},
   "outputs": [
    {
     "data": {
      "text/plain": [
       "<matplotlib.legend.Legend at 0x262248d3390>"
      ]
     },
     "execution_count": 63,
     "metadata": {},
     "output_type": "execute_result"
    },
    {
     "data": {
      "image/png": "[encoded data removed]",
      "text/plain": [
       "<Figure size 432x288 with 1 Axes>"
      ]
     },
     "metadata": {
      "needs_background": "light"
     },
     "output_type": "display_data"
    }
   ],
   "source": [
    "#plot both\n",
    "plt.plot(train_acc,label='train acc')\n",
    "plt.plot(test_acc,label='test acc')\n",
    "plt.legend()"
   ]
  },
  {
   "cell_type": "code",
   "execution_count": 64,
   "id": "d48631ca",
   "metadata": {},
   "outputs": [],
   "source": [
    "#trainig accuracy gets better in regards to epochs"
   ]
  },
  {
   "cell_type": "code",
   "execution_count": 68,
   "id": "13344cdf",
   "metadata": {},
   "outputs": [],
   "source": [
    "#Run new unseen data to training network\n",
    "# Extract the data all at once, not in batches\n",
    "test_load_all = DataLoader(test_data, batch_size=10000, shuffle=False)"
   ]
  },
  {
   "cell_type": "code",
   "execution_count": 70,
   "id": "c680d670",
   "metadata": {},
   "outputs": [
    {
     "name": "stdout",
     "output_type": "stream",
     "text": [
      "Test accuracy: 9767/10000 =  97.670%\n"
     ]
    }
   ],
   "source": [
    "with torch.no_grad():\n",
    "    correct = 0\n",
    "    for X_test, y_test in test_load_all:\n",
    "        y_val = model(X_test.view(len(X_test), -1))  # pass in a flattened view of X_test\n",
    "        predicted = torch.max(y_val,1)[1]\n",
    "        correct += (predicted == y_test).sum()\n",
    "        \n",
    "print(f'Test accuracy: {correct.item()}/{len(test_data)} = {correct.item()*100/(len(test_data)):7.3f}%')    "
   ]
  },
  {
   "cell_type": "raw",
   "id": "421a2936",
   "metadata": {},
   "source": []
  },
  {
   "cell_type": "code",
   "execution_count": 73,
   "id": "3fc3886c",
   "metadata": {},
   "outputs": [
    {
     "data": {
      "text/plain": [
       "array([[ 970,    0,    2,    0,    0,    3,    4,    1,    4,    3],\n",
       "       [   0, 1120,    2,    0,    0,    0,    3,    2,    0,    2],\n",
       "       [   1,    4, 1003,    2,    2,    0,    2,    5,    3,    0],\n",
       "       [   3,    3,    8,  996,    1,   22,    1,    2,    5,    9],\n",
       "       [   0,    0,    2,    0,  962,    3,    8,    1,    3,   10],\n",
       "       [   1,    0,    0,    1,    0,  853,    2,    0,    2,    3],\n",
       "       [   1,    2,    1,    0,    4,    4,  935,    0,    1,    0],\n",
       "       [   1,    1,    7,    6,    4,    1,    1, 1015,    5,   12],\n",
       "       [   2,    5,    6,    4,    2,    6,    2,    1,  949,    6],\n",
       "       [   1,    0,    1,    1,    7,    0,    0,    1,    2,  964]],\n",
       "      dtype=int64)"
      ]
     },
     "execution_count": 73,
     "metadata": {},
     "output_type": "execute_result"
    }
   ],
   "source": [
    "#DISPLAY CONFUSION MATRIX ON THIS\n",
    "confusion_matrix(predicted.view(-1),y_test.view(-1))"
   ]
  },
  {
   "cell_type": "code",
   "execution_count": null,
   "id": "8cac6699",
   "metadata": {},
   "outputs": [],
   "source": []
  }
 ],
 "metadata": {
  "kernelspec": {
   "display_name": "Python 3",
   "language": "python",
   "name": "python3"
  },
  "language_info": {
   "codemirror_mode": {
    "name": "ipython",
    "version": 3
   },
   "file_extension": ".py",
   "mimetype": "text/x-python",
   "name": "python",
   "nbconvert_exporter": "python",
   "pygments_lexer": "ipython3",
   "version": "3.7.3"
  }
 },
 "nbformat": 4,
 "nbformat_minor": 5
}
