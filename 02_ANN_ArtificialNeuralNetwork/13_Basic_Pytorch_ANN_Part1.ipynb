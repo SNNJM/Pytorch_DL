{
 "cells": [
  {
   "cell_type": "code",
   "execution_count": 1,
   "id": "9ca77d47",
   "metadata": {},
   "outputs": [],
   "source": [
    "import torch\n",
    "import torch.nn as nn #neural network module from pytorch library\n",
    "import torch.nn.functional as F"
   ]
  },
  {
   "cell_type": "code",
   "execution_count": 4,
   "id": "0c944b67",
   "metadata": {},
   "outputs": [],
   "source": [
    "#1 create a model class\n",
    "#create the model class and inherit from the module of neural network\n",
    "class Model(nn.Module):\n",
    "    #there will be 2 methods in here\n",
    "    #Method 1: instantiation method\n",
    "    def __init__(self,in_features=4,h1=8,h2=9,out_features=3):\n",
    "        #how many layers?. For each layer we create attribute\n",
    "        #Input Layer (4 features) --> h1 N -->h2 N--> output (3 classes--3 flowers)\n",
    "        #h1 n h2 is arbritrary choise of num\n",
    "        #instantiate the class inheritance\n",
    "        super().__init__()\n",
    "        #create layers\n",
    "        #fc1 for fully connected (fully connect input features to h1)\n",
    "        self.fc1 = nn.Linear(in_features,h1)\n",
    "        #note that input of this layer is the output of prev layer\n",
    "        self.fc2 = nn.Linear(h1,h2)\n",
    "        self.out = nn.Linear(h2,out_features)\n",
    "        \n",
    "        pass\n",
    "    \n",
    "    #Method 2: Propagation method (forward propagation)\n",
    "    def forward(self,x):\n",
    "        #F is module from nn func, relu is activation fn\n",
    "        #pass in the fully connected layer into relu\n",
    "        x = F.relu(self.fc1(x))\n",
    "        x = F.relu(self.fc2(x))\n",
    "        x = self.out(x)\n",
    "        #generally here we take those initial features x\n",
    "        #pass them to the fully connected layer\n",
    "        #and then pass to the activation fn\n",
    "        #the result is the passed into the next layer\n",
    "        \n",
    "        return x\n",
    "        \n",
    "    "
   ]
  },
  {
   "cell_type": "code",
   "execution_count": 5,
   "id": "4df6c8b4",
   "metadata": {},
   "outputs": [],
   "source": [
    "# Instantiate the Model class using parameter defaults\n",
    "torch.manual_seed(32)#random num 32\n",
    "model = Model()"
   ]
  },
  {
   "cell_type": "code",
   "execution_count": null,
   "id": "68e33fb2",
   "metadata": {},
   "outputs": [],
   "source": [
    " "
   ]
  }
 ],
 "metadata": {
  "kernelspec": {
   "display_name": "Python 3",
   "language": "python",
   "name": "python3"
  },
  "language_info": {
   "codemirror_mode": {
    "name": "ipython",
    "version": 3
   },
   "file_extension": ".py",
   "mimetype": "text/x-python",
   "name": "python",
   "nbconvert_exporter": "python",
   "pygments_lexer": "ipython3",
   "version": "3.7.3"
  }
 },
 "nbformat": 4,
 "nbformat_minor": 5
}
