{
 "cells": [
  {
   "cell_type": "code",
   "execution_count": 2,
   "id": "c90b69e4",
   "metadata": {},
   "outputs": [],
   "source": [
    "import torch\n",
    "import torch.nn as nn\n",
    "\n",
    "import numpy as np\n",
    "import pandas as pd\n",
    "import matplotlib.pyplot as plt\n",
    "%matplotlib inline\n"
   ]
  },
  {
   "cell_type": "code",
   "execution_count": 43,
   "id": "f24ca2be",
   "metadata": {},
   "outputs": [],
   "source": [
    "#Read in dataset\n",
    "df = pd.read_csv('C:/Users/A221LPEN/Desktop/Pytorch_for_Deep_Learning/PYTORCH_NOTEBOOKS/myCodes/NYCTaxiFares.csv')"
   ]
  },
  {
   "cell_type": "code",
   "execution_count": 44,
   "id": "01f0b85e",
   "metadata": {},
   "outputs": [
    {
     "data": {
      "text/html": [
       "<div>\n",
       "<style scoped>\n",
       "    .dataframe tbody tr th:only-of-type {\n",
       "        vertical-align: middle;\n",
       "    }\n",
       "\n",
       "    .dataframe tbody tr th {\n",
       "        vertical-align: top;\n",
       "    }\n",
       "\n",
       "    .dataframe thead th {\n",
       "        text-align: right;\n",
       "    }\n",
       "</style>\n",
       "<table border=\"1\" class=\"dataframe\">\n",
       "  <thead>\n",
       "    <tr style=\"text-align: right;\">\n",
       "      <th></th>\n",
       "      <th>pickup_datetime</th>\n",
       "      <th>fare_amount</th>\n",
       "      <th>fare_class</th>\n",
       "      <th>pickup_longitude</th>\n",
       "      <th>pickup_latitude</th>\n",
       "      <th>dropoff_longitude</th>\n",
       "      <th>dropoff_latitude</th>\n",
       "      <th>passenger_count</th>\n",
       "    </tr>\n",
       "  </thead>\n",
       "  <tbody>\n",
       "    <tr>\n",
       "      <th>0</th>\n",
       "      <td>2010-04-19 08:17:56 UTC</td>\n",
       "      <td>6.5</td>\n",
       "      <td>0</td>\n",
       "      <td>-73.992365</td>\n",
       "      <td>40.730521</td>\n",
       "      <td>-73.975499</td>\n",
       "      <td>40.744746</td>\n",
       "      <td>1</td>\n",
       "    </tr>\n",
       "    <tr>\n",
       "      <th>1</th>\n",
       "      <td>2010-04-17 15:43:53 UTC</td>\n",
       "      <td>6.9</td>\n",
       "      <td>0</td>\n",
       "      <td>-73.990078</td>\n",
       "      <td>40.740558</td>\n",
       "      <td>-73.974232</td>\n",
       "      <td>40.744114</td>\n",
       "      <td>1</td>\n",
       "    </tr>\n",
       "    <tr>\n",
       "      <th>2</th>\n",
       "      <td>2010-04-17 11:23:26 UTC</td>\n",
       "      <td>10.1</td>\n",
       "      <td>1</td>\n",
       "      <td>-73.994149</td>\n",
       "      <td>40.751118</td>\n",
       "      <td>-73.960064</td>\n",
       "      <td>40.766235</td>\n",
       "      <td>2</td>\n",
       "    </tr>\n",
       "    <tr>\n",
       "      <th>3</th>\n",
       "      <td>2010-04-11 21:25:03 UTC</td>\n",
       "      <td>8.9</td>\n",
       "      <td>0</td>\n",
       "      <td>-73.990485</td>\n",
       "      <td>40.756422</td>\n",
       "      <td>-73.971205</td>\n",
       "      <td>40.748192</td>\n",
       "      <td>1</td>\n",
       "    </tr>\n",
       "    <tr>\n",
       "      <th>4</th>\n",
       "      <td>2010-04-17 02:19:01 UTC</td>\n",
       "      <td>19.7</td>\n",
       "      <td>1</td>\n",
       "      <td>-73.990976</td>\n",
       "      <td>40.734202</td>\n",
       "      <td>-73.905956</td>\n",
       "      <td>40.743115</td>\n",
       "      <td>1</td>\n",
       "    </tr>\n",
       "  </tbody>\n",
       "</table>\n",
       "</div>"
      ],
      "text/plain": [
       "           pickup_datetime  fare_amount  fare_class  pickup_longitude  \\\n",
       "0  2010-04-19 08:17:56 UTC          6.5           0        -73.992365   \n",
       "1  2010-04-17 15:43:53 UTC          6.9           0        -73.990078   \n",
       "2  2010-04-17 11:23:26 UTC         10.1           1        -73.994149   \n",
       "3  2010-04-11 21:25:03 UTC          8.9           0        -73.990485   \n",
       "4  2010-04-17 02:19:01 UTC         19.7           1        -73.990976   \n",
       "\n",
       "   pickup_latitude  dropoff_longitude  dropoff_latitude  passenger_count  \n",
       "0        40.730521         -73.975499         40.744746                1  \n",
       "1        40.740558         -73.974232         40.744114                1  \n",
       "2        40.751118         -73.960064         40.766235                2  \n",
       "3        40.756422         -73.971205         40.748192                1  \n",
       "4        40.734202         -73.905956         40.743115                1  "
      ]
     },
     "execution_count": 44,
     "metadata": {},
     "output_type": "execute_result"
    }
   ],
   "source": [
    "df.head()"
   ]
  },
  {
   "cell_type": "code",
   "execution_count": 9,
   "id": "5ef63bd2",
   "metadata": {},
   "outputs": [],
   "source": [
    "#1 we could use some feature engineering to grab the pickup_datetime (timestamp)\n",
    "#2 fare_amount = the actual dollar amount that was spent on the fare\n",
    "#later on this will be treated as classification problem (below or above a certain amount)\n",
    "#for part 1, the fare_class will be ignored, coz right now, this is treated as regression problem\n",
    "\n",
    "#main features = pickup_longitude, pickup_latitude, dropoff_longitude, dropoff_latitude,passenger_count\n"
   ]
  },
  {
   "cell_type": "code",
   "execution_count": 45,
   "id": "33acb004",
   "metadata": {},
   "outputs": [
    {
     "data": {
      "text/plain": [
       "count    120000.000000\n",
       "mean         10.040326\n",
       "std           7.500134\n",
       "min           2.500000\n",
       "25%           5.700000\n",
       "50%           7.700000\n",
       "75%          11.300000\n",
       "max          49.900000\n",
       "Name: fare_amount, dtype: float64"
      ]
     },
     "execution_count": 45,
     "metadata": {},
     "output_type": "execute_result"
    }
   ],
   "source": [
    "df['fare_amount'].describe()"
   ]
  },
  {
   "cell_type": "code",
   "execution_count": 46,
   "id": "5a9b9b3e",
   "metadata": {},
   "outputs": [],
   "source": [
    "#raw data in lang and long is too small in differences, thus not that efficient when being used\n",
    "#use features to interpret it better--calculate the distance traveled from gps coordinate\n",
    "#HAVERSINE Formula\n",
    "\n",
    "#take in df=datapoint and 2 samples of lat and long\n",
    "def haversine_distance(df, lat1, long1, lat2, long2):\n",
    "    \"\"\"\n",
    "    Calculates the haversine distance between 2 sets of GPS coordinates in df\n",
    "    \"\"\"\n",
    "    r = 6371  # average radius of Earth in kilometers\n",
    "       \n",
    "    phi1 = np.radians(df[lat1])\n",
    "    phi2 = np.radians(df[lat2])\n",
    "    \n",
    "    delta_phi = np.radians(df[lat2]-df[lat1])\n",
    "    delta_lambda = np.radians(df[long2]-df[long1])\n",
    "     \n",
    "    a = np.sin(delta_phi/2)**2 + np.cos(phi1) * np.cos(phi2) * np.sin(delta_lambda/2)**2\n",
    "    c = 2 * np.arctan2(np.sqrt(a), np.sqrt(1-a))\n",
    "    d = (r * c) # in kilometers\n",
    "\n",
    "    return d #d is a series that contains the km of distance of those routes"
   ]
  },
  {
   "cell_type": "code",
   "execution_count": 47,
   "id": "c48c1fb5",
   "metadata": {},
   "outputs": [],
   "source": [
    "#create a new column \n",
    "#calling lat and long in dataframe, so they must be string that matches up with column names\n",
    "df['dist_km']= haversine_distance(df,'pickup_latitude','pickup_longitude','dropoff_latitude','dropoff_longitude')"
   ]
  },
  {
   "cell_type": "code",
   "execution_count": 48,
   "id": "4dfc4d13",
   "metadata": {},
   "outputs": [
    {
     "data": {
      "text/html": [
       "<div>\n",
       "<style scoped>\n",
       "    .dataframe tbody tr th:only-of-type {\n",
       "        vertical-align: middle;\n",
       "    }\n",
       "\n",
       "    .dataframe tbody tr th {\n",
       "        vertical-align: top;\n",
       "    }\n",
       "\n",
       "    .dataframe thead th {\n",
       "        text-align: right;\n",
       "    }\n",
       "</style>\n",
       "<table border=\"1\" class=\"dataframe\">\n",
       "  <thead>\n",
       "    <tr style=\"text-align: right;\">\n",
       "      <th></th>\n",
       "      <th>pickup_datetime</th>\n",
       "      <th>fare_amount</th>\n",
       "      <th>fare_class</th>\n",
       "      <th>pickup_longitude</th>\n",
       "      <th>pickup_latitude</th>\n",
       "      <th>dropoff_longitude</th>\n",
       "      <th>dropoff_latitude</th>\n",
       "      <th>passenger_count</th>\n",
       "      <th>dist_km</th>\n",
       "    </tr>\n",
       "  </thead>\n",
       "  <tbody>\n",
       "    <tr>\n",
       "      <th>0</th>\n",
       "      <td>2010-04-19 08:17:56 UTC</td>\n",
       "      <td>6.5</td>\n",
       "      <td>0</td>\n",
       "      <td>-73.992365</td>\n",
       "      <td>40.730521</td>\n",
       "      <td>-73.975499</td>\n",
       "      <td>40.744746</td>\n",
       "      <td>1</td>\n",
       "      <td>2.126312</td>\n",
       "    </tr>\n",
       "    <tr>\n",
       "      <th>1</th>\n",
       "      <td>2010-04-17 15:43:53 UTC</td>\n",
       "      <td>6.9</td>\n",
       "      <td>0</td>\n",
       "      <td>-73.990078</td>\n",
       "      <td>40.740558</td>\n",
       "      <td>-73.974232</td>\n",
       "      <td>40.744114</td>\n",
       "      <td>1</td>\n",
       "      <td>1.392307</td>\n",
       "    </tr>\n",
       "    <tr>\n",
       "      <th>2</th>\n",
       "      <td>2010-04-17 11:23:26 UTC</td>\n",
       "      <td>10.1</td>\n",
       "      <td>1</td>\n",
       "      <td>-73.994149</td>\n",
       "      <td>40.751118</td>\n",
       "      <td>-73.960064</td>\n",
       "      <td>40.766235</td>\n",
       "      <td>2</td>\n",
       "      <td>3.326763</td>\n",
       "    </tr>\n",
       "    <tr>\n",
       "      <th>3</th>\n",
       "      <td>2010-04-11 21:25:03 UTC</td>\n",
       "      <td>8.9</td>\n",
       "      <td>0</td>\n",
       "      <td>-73.990485</td>\n",
       "      <td>40.756422</td>\n",
       "      <td>-73.971205</td>\n",
       "      <td>40.748192</td>\n",
       "      <td>1</td>\n",
       "      <td>1.864129</td>\n",
       "    </tr>\n",
       "    <tr>\n",
       "      <th>4</th>\n",
       "      <td>2010-04-17 02:19:01 UTC</td>\n",
       "      <td>19.7</td>\n",
       "      <td>1</td>\n",
       "      <td>-73.990976</td>\n",
       "      <td>40.734202</td>\n",
       "      <td>-73.905956</td>\n",
       "      <td>40.743115</td>\n",
       "      <td>1</td>\n",
       "      <td>7.231321</td>\n",
       "    </tr>\n",
       "  </tbody>\n",
       "</table>\n",
       "</div>"
      ],
      "text/plain": [
       "           pickup_datetime  fare_amount  fare_class  pickup_longitude  \\\n",
       "0  2010-04-19 08:17:56 UTC          6.5           0        -73.992365   \n",
       "1  2010-04-17 15:43:53 UTC          6.9           0        -73.990078   \n",
       "2  2010-04-17 11:23:26 UTC         10.1           1        -73.994149   \n",
       "3  2010-04-11 21:25:03 UTC          8.9           0        -73.990485   \n",
       "4  2010-04-17 02:19:01 UTC         19.7           1        -73.990976   \n",
       "\n",
       "   pickup_latitude  dropoff_longitude  dropoff_latitude  passenger_count  \\\n",
       "0        40.730521         -73.975499         40.744746                1   \n",
       "1        40.740558         -73.974232         40.744114                1   \n",
       "2        40.751118         -73.960064         40.766235                2   \n",
       "3        40.756422         -73.971205         40.748192                1   \n",
       "4        40.734202         -73.905956         40.743115                1   \n",
       "\n",
       "    dist_km  \n",
       "0  2.126312  \n",
       "1  1.392307  \n",
       "2  3.326763  \n",
       "3  1.864129  \n",
       "4  7.231321  "
      ]
     },
     "execution_count": 48,
     "metadata": {},
     "output_type": "execute_result"
    }
   ],
   "source": [
    "df.head()"
   ]
  },
  {
   "cell_type": "code",
   "execution_count": 49,
   "id": "35795d9f",
   "metadata": {},
   "outputs": [
    {
     "data": {
      "text/plain": [
       "Index(['pickup_datetime', 'fare_amount', 'fare_class', 'pickup_longitude',\n",
       "       'pickup_latitude', 'dropoff_longitude', 'dropoff_latitude',\n",
       "       'passenger_count', 'dist_km'],\n",
       "      dtype='object')"
      ]
     },
     "execution_count": 49,
     "metadata": {},
     "output_type": "execute_result"
    }
   ],
   "source": [
    "#use this to see columns and apply to above fn\n",
    "df.columns"
   ]
  },
  {
   "cell_type": "code",
   "execution_count": 50,
   "id": "56fc024f",
   "metadata": {},
   "outputs": [
    {
     "name": "stdout",
     "output_type": "stream",
     "text": [
      "<class 'pandas.core.frame.DataFrame'>\n",
      "RangeIndex: 120000 entries, 0 to 119999\n",
      "Data columns (total 9 columns):\n",
      "pickup_datetime      120000 non-null object\n",
      "fare_amount          120000 non-null float64\n",
      "fare_class           120000 non-null int64\n",
      "pickup_longitude     120000 non-null float64\n",
      "pickup_latitude      120000 non-null float64\n",
      "dropoff_longitude    120000 non-null float64\n",
      "dropoff_latitude     120000 non-null float64\n",
      "passenger_count      120000 non-null int64\n",
      "dist_km              120000 non-null float64\n",
      "dtypes: float64(6), int64(2), object(1)\n",
      "memory usage: 8.2+ MB\n"
     ]
    }
   ],
   "source": [
    "#take a look at our dataframe right now\n",
    "df.info()"
   ]
  },
  {
   "cell_type": "code",
   "execution_count": 51,
   "id": "d324b834",
   "metadata": {},
   "outputs": [],
   "source": [
    "#the pickup_datetime is an object treated as string\n",
    "#convert them into datetime object\n",
    "df['pickup_datetime'] = pd.to_datetime(df['pickup_datetime'])\n",
    "#this will take some time (120 000 data)"
   ]
  },
  {
   "cell_type": "code",
   "execution_count": 52,
   "id": "2533cce9",
   "metadata": {},
   "outputs": [
    {
     "name": "stdout",
     "output_type": "stream",
     "text": [
      "<class 'pandas.core.frame.DataFrame'>\n",
      "RangeIndex: 120000 entries, 0 to 119999\n",
      "Data columns (total 9 columns):\n",
      "pickup_datetime      120000 non-null datetime64[ns, UTC]\n",
      "fare_amount          120000 non-null float64\n",
      "fare_class           120000 non-null int64\n",
      "pickup_longitude     120000 non-null float64\n",
      "pickup_latitude      120000 non-null float64\n",
      "dropoff_longitude    120000 non-null float64\n",
      "dropoff_latitude     120000 non-null float64\n",
      "passenger_count      120000 non-null int64\n",
      "dist_km              120000 non-null float64\n",
      "dtypes: datetime64[ns, UTC](1), float64(6), int64(2)\n",
      "memory usage: 8.2 MB\n"
     ]
    }
   ],
   "source": [
    "df.info()"
   ]
  },
  {
   "cell_type": "code",
   "execution_count": 53,
   "id": "8a450bc0",
   "metadata": {},
   "outputs": [
    {
     "data": {
      "text/html": [
       "<div>\n",
       "<style scoped>\n",
       "    .dataframe tbody tr th:only-of-type {\n",
       "        vertical-align: middle;\n",
       "    }\n",
       "\n",
       "    .dataframe tbody tr th {\n",
       "        vertical-align: top;\n",
       "    }\n",
       "\n",
       "    .dataframe thead th {\n",
       "        text-align: right;\n",
       "    }\n",
       "</style>\n",
       "<table border=\"1\" class=\"dataframe\">\n",
       "  <thead>\n",
       "    <tr style=\"text-align: right;\">\n",
       "      <th></th>\n",
       "      <th>pickup_datetime</th>\n",
       "      <th>fare_amount</th>\n",
       "      <th>fare_class</th>\n",
       "      <th>pickup_longitude</th>\n",
       "      <th>pickup_latitude</th>\n",
       "      <th>dropoff_longitude</th>\n",
       "      <th>dropoff_latitude</th>\n",
       "      <th>passenger_count</th>\n",
       "      <th>dist_km</th>\n",
       "    </tr>\n",
       "  </thead>\n",
       "  <tbody>\n",
       "    <tr>\n",
       "      <th>0</th>\n",
       "      <td>2010-04-19 08:17:56+00:00</td>\n",
       "      <td>6.5</td>\n",
       "      <td>0</td>\n",
       "      <td>-73.992365</td>\n",
       "      <td>40.730521</td>\n",
       "      <td>-73.975499</td>\n",
       "      <td>40.744746</td>\n",
       "      <td>1</td>\n",
       "      <td>2.126312</td>\n",
       "    </tr>\n",
       "    <tr>\n",
       "      <th>1</th>\n",
       "      <td>2010-04-17 15:43:53+00:00</td>\n",
       "      <td>6.9</td>\n",
       "      <td>0</td>\n",
       "      <td>-73.990078</td>\n",
       "      <td>40.740558</td>\n",
       "      <td>-73.974232</td>\n",
       "      <td>40.744114</td>\n",
       "      <td>1</td>\n",
       "      <td>1.392307</td>\n",
       "    </tr>\n",
       "    <tr>\n",
       "      <th>2</th>\n",
       "      <td>2010-04-17 11:23:26+00:00</td>\n",
       "      <td>10.1</td>\n",
       "      <td>1</td>\n",
       "      <td>-73.994149</td>\n",
       "      <td>40.751118</td>\n",
       "      <td>-73.960064</td>\n",
       "      <td>40.766235</td>\n",
       "      <td>2</td>\n",
       "      <td>3.326763</td>\n",
       "    </tr>\n",
       "    <tr>\n",
       "      <th>3</th>\n",
       "      <td>2010-04-11 21:25:03+00:00</td>\n",
       "      <td>8.9</td>\n",
       "      <td>0</td>\n",
       "      <td>-73.990485</td>\n",
       "      <td>40.756422</td>\n",
       "      <td>-73.971205</td>\n",
       "      <td>40.748192</td>\n",
       "      <td>1</td>\n",
       "      <td>1.864129</td>\n",
       "    </tr>\n",
       "    <tr>\n",
       "      <th>4</th>\n",
       "      <td>2010-04-17 02:19:01+00:00</td>\n",
       "      <td>19.7</td>\n",
       "      <td>1</td>\n",
       "      <td>-73.990976</td>\n",
       "      <td>40.734202</td>\n",
       "      <td>-73.905956</td>\n",
       "      <td>40.743115</td>\n",
       "      <td>1</td>\n",
       "      <td>7.231321</td>\n",
       "    </tr>\n",
       "  </tbody>\n",
       "</table>\n",
       "</div>"
      ],
      "text/plain": [
       "            pickup_datetime  fare_amount  fare_class  pickup_longitude  \\\n",
       "0 2010-04-19 08:17:56+00:00          6.5           0        -73.992365   \n",
       "1 2010-04-17 15:43:53+00:00          6.9           0        -73.990078   \n",
       "2 2010-04-17 11:23:26+00:00         10.1           1        -73.994149   \n",
       "3 2010-04-11 21:25:03+00:00          8.9           0        -73.990485   \n",
       "4 2010-04-17 02:19:01+00:00         19.7           1        -73.990976   \n",
       "\n",
       "   pickup_latitude  dropoff_longitude  dropoff_latitude  passenger_count  \\\n",
       "0        40.730521         -73.975499         40.744746                1   \n",
       "1        40.740558         -73.974232         40.744114                1   \n",
       "2        40.751118         -73.960064         40.766235                2   \n",
       "3        40.756422         -73.971205         40.748192                1   \n",
       "4        40.734202         -73.905956         40.743115                1   \n",
       "\n",
       "    dist_km  \n",
       "0  2.126312  \n",
       "1  1.392307  \n",
       "2  3.326763  \n",
       "3  1.864129  \n",
       "4  7.231321  "
      ]
     },
     "execution_count": 53,
     "metadata": {},
     "output_type": "execute_result"
    }
   ],
   "source": [
    "#notice that the pickup_datetime has become datetime64\n",
    "#the pickup_datetime is no longer in string, its in datetime\n",
    "df.head()"
   ]
  },
  {
   "cell_type": "code",
   "execution_count": 54,
   "id": "0fe8cb2e",
   "metadata": {},
   "outputs": [],
   "source": [
    "my_time = df['pickup_datetime'][0] #select specific pickup_datetime "
   ]
  },
  {
   "cell_type": "code",
   "execution_count": 55,
   "id": "508abeb9",
   "metadata": {},
   "outputs": [
    {
     "data": {
      "text/plain": [
       "8"
      ]
     },
     "execution_count": 55,
     "metadata": {},
     "output_type": "execute_result"
    }
   ],
   "source": [
    "my_time.hour"
   ]
  },
  {
   "cell_type": "code",
   "execution_count": 61,
   "id": "74487681",
   "metadata": {},
   "outputs": [
    {
     "data": {
      "text/html": [
       "<div>\n",
       "<style scoped>\n",
       "    .dataframe tbody tr th:only-of-type {\n",
       "        vertical-align: middle;\n",
       "    }\n",
       "\n",
       "    .dataframe tbody tr th {\n",
       "        vertical-align: top;\n",
       "    }\n",
       "\n",
       "    .dataframe thead th {\n",
       "        text-align: right;\n",
       "    }\n",
       "</style>\n",
       "<table border=\"1\" class=\"dataframe\">\n",
       "  <thead>\n",
       "    <tr style=\"text-align: right;\">\n",
       "      <th></th>\n",
       "      <th>pickup_datetime</th>\n",
       "      <th>fare_amount</th>\n",
       "      <th>fare_class</th>\n",
       "      <th>pickup_longitude</th>\n",
       "      <th>pickup_latitude</th>\n",
       "      <th>dropoff_longitude</th>\n",
       "      <th>dropoff_latitude</th>\n",
       "      <th>passenger_count</th>\n",
       "      <th>dist_km</th>\n",
       "      <th>EDTdate</th>\n",
       "      <th>Hour</th>\n",
       "      <th>AMorPM</th>\n",
       "    </tr>\n",
       "  </thead>\n",
       "  <tbody>\n",
       "    <tr>\n",
       "      <th>0</th>\n",
       "      <td>2010-04-19 08:17:56+00:00</td>\n",
       "      <td>6.5</td>\n",
       "      <td>0</td>\n",
       "      <td>-73.992365</td>\n",
       "      <td>40.730521</td>\n",
       "      <td>-73.975499</td>\n",
       "      <td>40.744746</td>\n",
       "      <td>1</td>\n",
       "      <td>2.126312</td>\n",
       "      <td>2010-04-19 04:17:56+00:00</td>\n",
       "      <td>4</td>\n",
       "      <td>am</td>\n",
       "    </tr>\n",
       "    <tr>\n",
       "      <th>1</th>\n",
       "      <td>2010-04-17 15:43:53+00:00</td>\n",
       "      <td>6.9</td>\n",
       "      <td>0</td>\n",
       "      <td>-73.990078</td>\n",
       "      <td>40.740558</td>\n",
       "      <td>-73.974232</td>\n",
       "      <td>40.744114</td>\n",
       "      <td>1</td>\n",
       "      <td>1.392307</td>\n",
       "      <td>2010-04-17 11:43:53+00:00</td>\n",
       "      <td>11</td>\n",
       "      <td>am</td>\n",
       "    </tr>\n",
       "    <tr>\n",
       "      <th>2</th>\n",
       "      <td>2010-04-17 11:23:26+00:00</td>\n",
       "      <td>10.1</td>\n",
       "      <td>1</td>\n",
       "      <td>-73.994149</td>\n",
       "      <td>40.751118</td>\n",
       "      <td>-73.960064</td>\n",
       "      <td>40.766235</td>\n",
       "      <td>2</td>\n",
       "      <td>3.326763</td>\n",
       "      <td>2010-04-17 07:23:26+00:00</td>\n",
       "      <td>7</td>\n",
       "      <td>am</td>\n",
       "    </tr>\n",
       "    <tr>\n",
       "      <th>3</th>\n",
       "      <td>2010-04-11 21:25:03+00:00</td>\n",
       "      <td>8.9</td>\n",
       "      <td>0</td>\n",
       "      <td>-73.990485</td>\n",
       "      <td>40.756422</td>\n",
       "      <td>-73.971205</td>\n",
       "      <td>40.748192</td>\n",
       "      <td>1</td>\n",
       "      <td>1.864129</td>\n",
       "      <td>2010-04-11 17:25:03+00:00</td>\n",
       "      <td>17</td>\n",
       "      <td>pm</td>\n",
       "    </tr>\n",
       "    <tr>\n",
       "      <th>4</th>\n",
       "      <td>2010-04-17 02:19:01+00:00</td>\n",
       "      <td>19.7</td>\n",
       "      <td>1</td>\n",
       "      <td>-73.990976</td>\n",
       "      <td>40.734202</td>\n",
       "      <td>-73.905956</td>\n",
       "      <td>40.743115</td>\n",
       "      <td>1</td>\n",
       "      <td>7.231321</td>\n",
       "      <td>2010-04-16 22:19:01+00:00</td>\n",
       "      <td>22</td>\n",
       "      <td>pm</td>\n",
       "    </tr>\n",
       "  </tbody>\n",
       "</table>\n",
       "</div>"
      ],
      "text/plain": [
       "            pickup_datetime  fare_amount  fare_class  pickup_longitude  \\\n",
       "0 2010-04-19 08:17:56+00:00          6.5           0        -73.992365   \n",
       "1 2010-04-17 15:43:53+00:00          6.9           0        -73.990078   \n",
       "2 2010-04-17 11:23:26+00:00         10.1           1        -73.994149   \n",
       "3 2010-04-11 21:25:03+00:00          8.9           0        -73.990485   \n",
       "4 2010-04-17 02:19:01+00:00         19.7           1        -73.990976   \n",
       "\n",
       "   pickup_latitude  dropoff_longitude  dropoff_latitude  passenger_count  \\\n",
       "0        40.730521         -73.975499         40.744746                1   \n",
       "1        40.740558         -73.974232         40.744114                1   \n",
       "2        40.751118         -73.960064         40.766235                2   \n",
       "3        40.756422         -73.971205         40.748192                1   \n",
       "4        40.734202         -73.905956         40.743115                1   \n",
       "\n",
       "    dist_km                   EDTdate  Hour AMorPM  \n",
       "0  2.126312 2010-04-19 04:17:56+00:00     4     am  \n",
       "1  1.392307 2010-04-17 11:43:53+00:00    11     am  \n",
       "2  3.326763 2010-04-17 07:23:26+00:00     7     am  \n",
       "3  1.864129 2010-04-11 17:25:03+00:00    17     pm  \n",
       "4  7.231321 2010-04-16 22:19:01+00:00    22     pm  "
      ]
     },
     "execution_count": 61,
     "metadata": {},
     "output_type": "execute_result"
    }
   ],
   "source": [
    "#notice that the time is UTC while the data is actually in NYC\n",
    "#that means there's 4 hours differences coz this data falls in April 2010\n",
    "#coz this occured during the Daylight saving time\n",
    "\n",
    "df.head()"
   ]
  },
  {
   "cell_type": "code",
   "execution_count": 57,
   "id": "d12b067e",
   "metadata": {},
   "outputs": [],
   "source": [
    "#based on that knowledge, create a new column\n",
    "#EDT = Eastern time, \n",
    "df['EDTdate'] = df['pickup_datetime'] - pd.Timedelta(hours=4)"
   ]
  },
  {
   "cell_type": "code",
   "execution_count": 58,
   "id": "4b462644",
   "metadata": {},
   "outputs": [],
   "source": [
    "df['Hour'] =  df['EDTdate'].dt.hour"
   ]
  },
  {
   "cell_type": "code",
   "execution_count": 59,
   "id": "f39f2d53",
   "metadata": {},
   "outputs": [],
   "source": [
    "#from the dataset pattern, we could determine this by checking whether hours >12\n",
    "df['AMorPM'] = np.where(df['Hour']<12,'am','pm') #if hour<12 =true, it is am, else its pm\n"
   ]
  },
  {
   "cell_type": "code",
   "execution_count": 60,
   "id": "fdc6efd9",
   "metadata": {},
   "outputs": [
    {
     "data": {
      "text/html": [
       "<div>\n",
       "<style scoped>\n",
       "    .dataframe tbody tr th:only-of-type {\n",
       "        vertical-align: middle;\n",
       "    }\n",
       "\n",
       "    .dataframe tbody tr th {\n",
       "        vertical-align: top;\n",
       "    }\n",
       "\n",
       "    .dataframe thead th {\n",
       "        text-align: right;\n",
       "    }\n",
       "</style>\n",
       "<table border=\"1\" class=\"dataframe\">\n",
       "  <thead>\n",
       "    <tr style=\"text-align: right;\">\n",
       "      <th></th>\n",
       "      <th>pickup_datetime</th>\n",
       "      <th>fare_amount</th>\n",
       "      <th>fare_class</th>\n",
       "      <th>pickup_longitude</th>\n",
       "      <th>pickup_latitude</th>\n",
       "      <th>dropoff_longitude</th>\n",
       "      <th>dropoff_latitude</th>\n",
       "      <th>passenger_count</th>\n",
       "      <th>dist_km</th>\n",
       "      <th>EDTdate</th>\n",
       "      <th>Hour</th>\n",
       "      <th>AMorPM</th>\n",
       "    </tr>\n",
       "  </thead>\n",
       "  <tbody>\n",
       "    <tr>\n",
       "      <th>0</th>\n",
       "      <td>2010-04-19 08:17:56+00:00</td>\n",
       "      <td>6.5</td>\n",
       "      <td>0</td>\n",
       "      <td>-73.992365</td>\n",
       "      <td>40.730521</td>\n",
       "      <td>-73.975499</td>\n",
       "      <td>40.744746</td>\n",
       "      <td>1</td>\n",
       "      <td>2.126312</td>\n",
       "      <td>2010-04-19 04:17:56+00:00</td>\n",
       "      <td>4</td>\n",
       "      <td>am</td>\n",
       "    </tr>\n",
       "    <tr>\n",
       "      <th>1</th>\n",
       "      <td>2010-04-17 15:43:53+00:00</td>\n",
       "      <td>6.9</td>\n",
       "      <td>0</td>\n",
       "      <td>-73.990078</td>\n",
       "      <td>40.740558</td>\n",
       "      <td>-73.974232</td>\n",
       "      <td>40.744114</td>\n",
       "      <td>1</td>\n",
       "      <td>1.392307</td>\n",
       "      <td>2010-04-17 11:43:53+00:00</td>\n",
       "      <td>11</td>\n",
       "      <td>am</td>\n",
       "    </tr>\n",
       "    <tr>\n",
       "      <th>2</th>\n",
       "      <td>2010-04-17 11:23:26+00:00</td>\n",
       "      <td>10.1</td>\n",
       "      <td>1</td>\n",
       "      <td>-73.994149</td>\n",
       "      <td>40.751118</td>\n",
       "      <td>-73.960064</td>\n",
       "      <td>40.766235</td>\n",
       "      <td>2</td>\n",
       "      <td>3.326763</td>\n",
       "      <td>2010-04-17 07:23:26+00:00</td>\n",
       "      <td>7</td>\n",
       "      <td>am</td>\n",
       "    </tr>\n",
       "    <tr>\n",
       "      <th>3</th>\n",
       "      <td>2010-04-11 21:25:03+00:00</td>\n",
       "      <td>8.9</td>\n",
       "      <td>0</td>\n",
       "      <td>-73.990485</td>\n",
       "      <td>40.756422</td>\n",
       "      <td>-73.971205</td>\n",
       "      <td>40.748192</td>\n",
       "      <td>1</td>\n",
       "      <td>1.864129</td>\n",
       "      <td>2010-04-11 17:25:03+00:00</td>\n",
       "      <td>17</td>\n",
       "      <td>pm</td>\n",
       "    </tr>\n",
       "    <tr>\n",
       "      <th>4</th>\n",
       "      <td>2010-04-17 02:19:01+00:00</td>\n",
       "      <td>19.7</td>\n",
       "      <td>1</td>\n",
       "      <td>-73.990976</td>\n",
       "      <td>40.734202</td>\n",
       "      <td>-73.905956</td>\n",
       "      <td>40.743115</td>\n",
       "      <td>1</td>\n",
       "      <td>7.231321</td>\n",
       "      <td>2010-04-16 22:19:01+00:00</td>\n",
       "      <td>22</td>\n",
       "      <td>pm</td>\n",
       "    </tr>\n",
       "  </tbody>\n",
       "</table>\n",
       "</div>"
      ],
      "text/plain": [
       "            pickup_datetime  fare_amount  fare_class  pickup_longitude  \\\n",
       "0 2010-04-19 08:17:56+00:00          6.5           0        -73.992365   \n",
       "1 2010-04-17 15:43:53+00:00          6.9           0        -73.990078   \n",
       "2 2010-04-17 11:23:26+00:00         10.1           1        -73.994149   \n",
       "3 2010-04-11 21:25:03+00:00          8.9           0        -73.990485   \n",
       "4 2010-04-17 02:19:01+00:00         19.7           1        -73.990976   \n",
       "\n",
       "   pickup_latitude  dropoff_longitude  dropoff_latitude  passenger_count  \\\n",
       "0        40.730521         -73.975499         40.744746                1   \n",
       "1        40.740558         -73.974232         40.744114                1   \n",
       "2        40.751118         -73.960064         40.766235                2   \n",
       "3        40.756422         -73.971205         40.748192                1   \n",
       "4        40.734202         -73.905956         40.743115                1   \n",
       "\n",
       "    dist_km                   EDTdate  Hour AMorPM  \n",
       "0  2.126312 2010-04-19 04:17:56+00:00     4     am  \n",
       "1  1.392307 2010-04-17 11:43:53+00:00    11     am  \n",
       "2  3.326763 2010-04-17 07:23:26+00:00     7     am  \n",
       "3  1.864129 2010-04-11 17:25:03+00:00    17     pm  \n",
       "4  7.231321 2010-04-16 22:19:01+00:00    22     pm  "
      ]
     },
     "execution_count": 60,
     "metadata": {},
     "output_type": "execute_result"
    }
   ],
   "source": [
    "df.head()"
   ]
  },
  {
   "cell_type": "code",
   "execution_count": 62,
   "id": "5b8c1bec",
   "metadata": {},
   "outputs": [],
   "source": [
    "#check weekday or weekend\n",
    "df['Weekday'] = df['EDTdate'].dt.strftime(\"%a\")"
   ]
  },
  {
   "cell_type": "code",
   "execution_count": 63,
   "id": "d1d72d6c",
   "metadata": {},
   "outputs": [
    {
     "data": {
      "text/html": [
       "<div>\n",
       "<style scoped>\n",
       "    .dataframe tbody tr th:only-of-type {\n",
       "        vertical-align: middle;\n",
       "    }\n",
       "\n",
       "    .dataframe tbody tr th {\n",
       "        vertical-align: top;\n",
       "    }\n",
       "\n",
       "    .dataframe thead th {\n",
       "        text-align: right;\n",
       "    }\n",
       "</style>\n",
       "<table border=\"1\" class=\"dataframe\">\n",
       "  <thead>\n",
       "    <tr style=\"text-align: right;\">\n",
       "      <th></th>\n",
       "      <th>pickup_datetime</th>\n",
       "      <th>fare_amount</th>\n",
       "      <th>fare_class</th>\n",
       "      <th>pickup_longitude</th>\n",
       "      <th>pickup_latitude</th>\n",
       "      <th>dropoff_longitude</th>\n",
       "      <th>dropoff_latitude</th>\n",
       "      <th>passenger_count</th>\n",
       "      <th>dist_km</th>\n",
       "      <th>EDTdate</th>\n",
       "      <th>Hour</th>\n",
       "      <th>AMorPM</th>\n",
       "      <th>Weekday</th>\n",
       "    </tr>\n",
       "  </thead>\n",
       "  <tbody>\n",
       "    <tr>\n",
       "      <th>0</th>\n",
       "      <td>2010-04-19 08:17:56+00:00</td>\n",
       "      <td>6.5</td>\n",
       "      <td>0</td>\n",
       "      <td>-73.992365</td>\n",
       "      <td>40.730521</td>\n",
       "      <td>-73.975499</td>\n",
       "      <td>40.744746</td>\n",
       "      <td>1</td>\n",
       "      <td>2.126312</td>\n",
       "      <td>2010-04-19 04:17:56+00:00</td>\n",
       "      <td>4</td>\n",
       "      <td>am</td>\n",
       "      <td>Mon</td>\n",
       "    </tr>\n",
       "    <tr>\n",
       "      <th>1</th>\n",
       "      <td>2010-04-17 15:43:53+00:00</td>\n",
       "      <td>6.9</td>\n",
       "      <td>0</td>\n",
       "      <td>-73.990078</td>\n",
       "      <td>40.740558</td>\n",
       "      <td>-73.974232</td>\n",
       "      <td>40.744114</td>\n",
       "      <td>1</td>\n",
       "      <td>1.392307</td>\n",
       "      <td>2010-04-17 11:43:53+00:00</td>\n",
       "      <td>11</td>\n",
       "      <td>am</td>\n",
       "      <td>Sat</td>\n",
       "    </tr>\n",
       "    <tr>\n",
       "      <th>2</th>\n",
       "      <td>2010-04-17 11:23:26+00:00</td>\n",
       "      <td>10.1</td>\n",
       "      <td>1</td>\n",
       "      <td>-73.994149</td>\n",
       "      <td>40.751118</td>\n",
       "      <td>-73.960064</td>\n",
       "      <td>40.766235</td>\n",
       "      <td>2</td>\n",
       "      <td>3.326763</td>\n",
       "      <td>2010-04-17 07:23:26+00:00</td>\n",
       "      <td>7</td>\n",
       "      <td>am</td>\n",
       "      <td>Sat</td>\n",
       "    </tr>\n",
       "    <tr>\n",
       "      <th>3</th>\n",
       "      <td>2010-04-11 21:25:03+00:00</td>\n",
       "      <td>8.9</td>\n",
       "      <td>0</td>\n",
       "      <td>-73.990485</td>\n",
       "      <td>40.756422</td>\n",
       "      <td>-73.971205</td>\n",
       "      <td>40.748192</td>\n",
       "      <td>1</td>\n",
       "      <td>1.864129</td>\n",
       "      <td>2010-04-11 17:25:03+00:00</td>\n",
       "      <td>17</td>\n",
       "      <td>pm</td>\n",
       "      <td>Sun</td>\n",
       "    </tr>\n",
       "    <tr>\n",
       "      <th>4</th>\n",
       "      <td>2010-04-17 02:19:01+00:00</td>\n",
       "      <td>19.7</td>\n",
       "      <td>1</td>\n",
       "      <td>-73.990976</td>\n",
       "      <td>40.734202</td>\n",
       "      <td>-73.905956</td>\n",
       "      <td>40.743115</td>\n",
       "      <td>1</td>\n",
       "      <td>7.231321</td>\n",
       "      <td>2010-04-16 22:19:01+00:00</td>\n",
       "      <td>22</td>\n",
       "      <td>pm</td>\n",
       "      <td>Fri</td>\n",
       "    </tr>\n",
       "  </tbody>\n",
       "</table>\n",
       "</div>"
      ],
      "text/plain": [
       "            pickup_datetime  fare_amount  fare_class  pickup_longitude  \\\n",
       "0 2010-04-19 08:17:56+00:00          6.5           0        -73.992365   \n",
       "1 2010-04-17 15:43:53+00:00          6.9           0        -73.990078   \n",
       "2 2010-04-17 11:23:26+00:00         10.1           1        -73.994149   \n",
       "3 2010-04-11 21:25:03+00:00          8.9           0        -73.990485   \n",
       "4 2010-04-17 02:19:01+00:00         19.7           1        -73.990976   \n",
       "\n",
       "   pickup_latitude  dropoff_longitude  dropoff_latitude  passenger_count  \\\n",
       "0        40.730521         -73.975499         40.744746                1   \n",
       "1        40.740558         -73.974232         40.744114                1   \n",
       "2        40.751118         -73.960064         40.766235                2   \n",
       "3        40.756422         -73.971205         40.748192                1   \n",
       "4        40.734202         -73.905956         40.743115                1   \n",
       "\n",
       "    dist_km                   EDTdate  Hour AMorPM Weekday  \n",
       "0  2.126312 2010-04-19 04:17:56+00:00     4     am     Mon  \n",
       "1  1.392307 2010-04-17 11:43:53+00:00    11     am     Sat  \n",
       "2  3.326763 2010-04-17 07:23:26+00:00     7     am     Sat  \n",
       "3  1.864129 2010-04-11 17:25:03+00:00    17     pm     Sun  \n",
       "4  7.231321 2010-04-16 22:19:01+00:00    22     pm     Fri  "
      ]
     },
     "execution_count": 63,
     "metadata": {},
     "output_type": "execute_result"
    }
   ],
   "source": [
    "df.head()"
   ]
  },
  {
   "cell_type": "code",
   "execution_count": null,
   "id": "ad7a6150",
   "metadata": {},
   "outputs": [],
   "source": []
  },
  {
   "cell_type": "code",
   "execution_count": 64,
   "id": "3cd484aa",
   "metadata": {},
   "outputs": [
    {
     "data": {
      "text/plain": [
       "Index(['pickup_datetime', 'fare_amount', 'fare_class', 'pickup_longitude',\n",
       "       'pickup_latitude', 'dropoff_longitude', 'dropoff_latitude',\n",
       "       'passenger_count', 'dist_km', 'EDTdate', 'Hour', 'AMorPM', 'Weekday'],\n",
       "      dtype='object')"
      ]
     },
     "execution_count": 64,
     "metadata": {},
     "output_type": "execute_result"
    }
   ],
   "source": [
    "df.columns"
   ]
  },
  {
   "cell_type": "code",
   "execution_count": 65,
   "id": "826b234f",
   "metadata": {},
   "outputs": [],
   "source": [
    "#categorical and continuous features\n",
    "#separate them 1st\n",
    "#create 2 variables\n",
    "cat_cols = ['Hour','AMorPM','Weekday']\n",
    "#hour (numerical)could be cintinuous or categorical\n",
    "#depends on the developer insight\n",
    "cont_cols = ['pickup_longitude',\n",
    "       'pickup_latitude', 'dropoff_longitude', 'dropoff_latitude',\n",
    "       'passenger_count', 'dist_km'] #check df.columns"
   ]
  },
  {
   "cell_type": "code",
   "execution_count": 66,
   "id": "51f1bc2e",
   "metadata": {},
   "outputs": [],
   "source": [
    "#labels under y columns\n",
    "y_col = ['fare_amount'] #regression problem = fare_amound, if classification - 'fare_class'\n"
   ]
  },
  {
   "cell_type": "code",
   "execution_count": 67,
   "id": "32f55c1d",
   "metadata": {},
   "outputs": [
    {
     "data": {
      "text/plain": [
       "pickup_datetime      datetime64[ns, UTC]\n",
       "fare_amount                      float64\n",
       "fare_class                         int64\n",
       "pickup_longitude                 float64\n",
       "pickup_latitude                  float64\n",
       "dropoff_longitude                float64\n",
       "dropoff_latitude                 float64\n",
       "passenger_count                    int64\n",
       "dist_km                          float64\n",
       "EDTdate              datetime64[ns, UTC]\n",
       "Hour                               int64\n",
       "AMorPM                            object\n",
       "Weekday                           object\n",
       "dtype: object"
      ]
     },
     "execution_count": 67,
     "metadata": {},
     "output_type": "execute_result"
    }
   ],
   "source": [
    "#use pandas to deal categories\n",
    "#pandas offers category datatype for converting categorical values to numerical codes\n",
    "#lots of other ways to encode these into numerical\n",
    "df.dtypes"
   ]
  },
  {
   "cell_type": "code",
   "execution_count": 68,
   "id": "6e577e95",
   "metadata": {},
   "outputs": [],
   "source": [
    "#convert Hour datatype into category\n",
    "for cat in cat_cols:\n",
    "    df[cat] = df[cat].astype('category')"
   ]
  },
  {
   "cell_type": "code",
   "execution_count": 69,
   "id": "fab30424",
   "metadata": {},
   "outputs": [
    {
     "data": {
      "text/plain": [
       "pickup_datetime      datetime64[ns, UTC]\n",
       "fare_amount                      float64\n",
       "fare_class                         int64\n",
       "pickup_longitude                 float64\n",
       "pickup_latitude                  float64\n",
       "dropoff_longitude                float64\n",
       "dropoff_latitude                 float64\n",
       "passenger_count                    int64\n",
       "dist_km                          float64\n",
       "EDTdate              datetime64[ns, UTC]\n",
       "Hour                            category\n",
       "AMorPM                          category\n",
       "Weekday                         category\n",
       "dtype: object"
      ]
     },
     "execution_count": 69,
     "metadata": {},
     "output_type": "execute_result"
    }
   ],
   "source": [
    "df.dtypes"
   ]
  },
  {
   "cell_type": "code",
   "execution_count": 70,
   "id": "90cf01b4",
   "metadata": {},
   "outputs": [
    {
     "data": {
      "text/plain": [
       "0     4\n",
       "1    11\n",
       "2     7\n",
       "3    17\n",
       "4    22\n",
       "Name: Hour, dtype: category\n",
       "Categories (24, int64): [0, 1, 2, 3, ..., 20, 21, 22, 23]"
      ]
     },
     "execution_count": 70,
     "metadata": {},
     "output_type": "execute_result"
    }
   ],
   "source": [
    "#Hour, AMorPM and Weekday are category now\n",
    "df['Hour'].head()"
   ]
  },
  {
   "cell_type": "code",
   "execution_count": 71,
   "id": "fd2176a4",
   "metadata": {},
   "outputs": [
    {
     "data": {
      "text/plain": [
       "0    am\n",
       "1    am\n",
       "2    am\n",
       "3    pm\n",
       "4    pm\n",
       "Name: AMorPM, dtype: category\n",
       "Categories (2, object): [am, pm]"
      ]
     },
     "execution_count": 71,
     "metadata": {},
     "output_type": "execute_result"
    }
   ],
   "source": [
    "df['AMorPM'].head()"
   ]
  },
  {
   "cell_type": "code",
   "execution_count": 72,
   "id": "cd589c31",
   "metadata": {},
   "outputs": [
    {
     "data": {
      "text/plain": [
       "0    Mon\n",
       "1    Sat\n",
       "2    Sat\n",
       "3    Sun\n",
       "4    Fri\n",
       "Name: Weekday, dtype: category\n",
       "Categories (7, object): [Fri, Mon, Sat, Sun, Thu, Tue, Wed]"
      ]
     },
     "execution_count": 72,
     "metadata": {},
     "output_type": "execute_result"
    }
   ],
   "source": [
    "df['Weekday'].head()"
   ]
  },
  {
   "cell_type": "code",
   "execution_count": 73,
   "id": "6b9f649e",
   "metadata": {},
   "outputs": [],
   "source": [
    "#notice that they are now smart enough to understand the categories (object, etc)\n"
   ]
  },
  {
   "cell_type": "code",
   "execution_count": 74,
   "id": "631839c6",
   "metadata": {},
   "outputs": [
    {
     "data": {
      "text/plain": [
       "0         am\n",
       "1         am\n",
       "2         am\n",
       "3         pm\n",
       "4         pm\n",
       "5         am\n",
       "6         pm\n",
       "7         am\n",
       "8         am\n",
       "9         pm\n",
       "10        pm\n",
       "11        pm\n",
       "12        am\n",
       "13        pm\n",
       "14        am\n",
       "15        pm\n",
       "16        pm\n",
       "17        am\n",
       "18        pm\n",
       "19        pm\n",
       "20        am\n",
       "21        am\n",
       "22        am\n",
       "23        pm\n",
       "24        am\n",
       "25        am\n",
       "26        pm\n",
       "27        pm\n",
       "28        pm\n",
       "29        pm\n",
       "          ..\n",
       "119970    am\n",
       "119971    pm\n",
       "119972    am\n",
       "119973    pm\n",
       "119974    am\n",
       "119975    pm\n",
       "119976    pm\n",
       "119977    am\n",
       "119978    pm\n",
       "119979    am\n",
       "119980    am\n",
       "119981    am\n",
       "119982    pm\n",
       "119983    pm\n",
       "119984    pm\n",
       "119985    pm\n",
       "119986    pm\n",
       "119987    am\n",
       "119988    am\n",
       "119989    pm\n",
       "119990    am\n",
       "119991    pm\n",
       "119992    am\n",
       "119993    am\n",
       "119994    pm\n",
       "119995    am\n",
       "119996    am\n",
       "119997    pm\n",
       "119998    am\n",
       "119999    pm\n",
       "Name: AMorPM, Length: 120000, dtype: category\n",
       "Categories (2, object): [am, pm]"
      ]
     },
     "execution_count": 74,
     "metadata": {},
     "output_type": "execute_result"
    }
   ],
   "source": [
    "#explore categorical encode\n",
    "#grab AMorPM series\n",
    "df['AMorPM']"
   ]
  },
  {
   "cell_type": "code",
   "execution_count": 75,
   "id": "49221d69",
   "metadata": {},
   "outputs": [
    {
     "data": {
      "text/plain": [
       "Index(['am', 'pm'], dtype='object')"
      ]
     },
     "execution_count": 75,
     "metadata": {},
     "output_type": "execute_result"
    }
   ],
   "source": [
    "#grab categories only\n",
    "df['AMorPM'].cat.categories"
   ]
  },
  {
   "cell_type": "code",
   "execution_count": 76,
   "id": "45f490c7",
   "metadata": {},
   "outputs": [
    {
     "data": {
      "text/plain": [
       "0         0\n",
       "1         0\n",
       "2         0\n",
       "3         1\n",
       "4         1\n",
       "5         0\n",
       "6         1\n",
       "7         0\n",
       "8         0\n",
       "9         1\n",
       "10        1\n",
       "11        1\n",
       "12        0\n",
       "13        1\n",
       "14        0\n",
       "15        1\n",
       "16        1\n",
       "17        0\n",
       "18        1\n",
       "19        1\n",
       "20        0\n",
       "21        0\n",
       "22        0\n",
       "23        1\n",
       "24        0\n",
       "25        0\n",
       "26        1\n",
       "27        1\n",
       "28        1\n",
       "29        1\n",
       "         ..\n",
       "119970    0\n",
       "119971    1\n",
       "119972    0\n",
       "119973    1\n",
       "119974    0\n",
       "119975    1\n",
       "119976    1\n",
       "119977    0\n",
       "119978    1\n",
       "119979    0\n",
       "119980    0\n",
       "119981    0\n",
       "119982    1\n",
       "119983    1\n",
       "119984    1\n",
       "119985    1\n",
       "119986    1\n",
       "119987    0\n",
       "119988    0\n",
       "119989    1\n",
       "119990    0\n",
       "119991    1\n",
       "119992    0\n",
       "119993    0\n",
       "119994    1\n",
       "119995    0\n",
       "119996    0\n",
       "119997    1\n",
       "119998    0\n",
       "119999    1\n",
       "Length: 120000, dtype: int8"
      ]
     },
     "execution_count": 76,
     "metadata": {},
     "output_type": "execute_result"
    }
   ],
   "source": [
    "#the AM and PM actually has their own code, AM=0, PM=1\n",
    "df['AMorPM'].cat.codes"
   ]
  },
  {
   "cell_type": "code",
   "execution_count": 77,
   "id": "cca17bd5",
   "metadata": {},
   "outputs": [
    {
     "data": {
      "text/plain": [
       "Index(['Fri', 'Mon', 'Sat', 'Sun', 'Thu', 'Tue', 'Wed'], dtype='object')"
      ]
     },
     "execution_count": 77,
     "metadata": {},
     "output_type": "execute_result"
    }
   ],
   "source": [
    "df['Weekday'].cat.categories"
   ]
  },
  {
   "cell_type": "code",
   "execution_count": 40,
   "id": "28bb6ca9",
   "metadata": {},
   "outputs": [
    {
     "data": {
      "text/plain": [
       "0         1\n",
       "1         2\n",
       "2         2\n",
       "3         3\n",
       "4         0\n",
       "5         4\n",
       "6         0\n",
       "7         4\n",
       "8         5\n",
       "9         0\n",
       "10        4\n",
       "11        4\n",
       "12        0\n",
       "13        2\n",
       "14        6\n",
       "15        5\n",
       "16        4\n",
       "17        4\n",
       "18        6\n",
       "19        5\n",
       "20        5\n",
       "21        1\n",
       "22        5\n",
       "23        5\n",
       "24        6\n",
       "25        2\n",
       "26        3\n",
       "27        4\n",
       "28        0\n",
       "29        5\n",
       "         ..\n",
       "119970    3\n",
       "119971    4\n",
       "119972    0\n",
       "119973    2\n",
       "119974    2\n",
       "119975    5\n",
       "119976    5\n",
       "119977    5\n",
       "119978    3\n",
       "119979    6\n",
       "119980    6\n",
       "119981    4\n",
       "119982    6\n",
       "119983    6\n",
       "119984    0\n",
       "119985    1\n",
       "119986    0\n",
       "119987    1\n",
       "119988    3\n",
       "119989    2\n",
       "119990    3\n",
       "119991    1\n",
       "119992    0\n",
       "119993    1\n",
       "119994    3\n",
       "119995    3\n",
       "119996    0\n",
       "119997    3\n",
       "119998    5\n",
       "119999    2\n",
       "Length: 120000, dtype: int8"
      ]
     },
     "execution_count": 40,
     "metadata": {},
     "output_type": "execute_result"
    }
   ],
   "source": [
    "df['Weekday'].cat.codes"
   ]
  },
  {
   "cell_type": "code",
   "execution_count": 78,
   "id": "d1550e7e",
   "metadata": {},
   "outputs": [
    {
     "data": {
      "text/plain": [
       "array([1, 2, 2, ..., 3, 5, 2], dtype=int8)"
      ]
     },
     "execution_count": 78,
     "metadata": {},
     "output_type": "execute_result"
    }
   ],
   "source": [
    "#reports ack numpy array\n",
    "df['Weekday'].cat.codes.values"
   ]
  },
  {
   "cell_type": "code",
   "execution_count": 79,
   "id": "15e41fda",
   "metadata": {},
   "outputs": [],
   "source": [
    "#remember, when parsing tensor, we need numpy array format, then cast into pytorch tensor\n",
    "hr = df['Hour'].cat.codes.values\n",
    "ampm = df['AMorPM'].cat.codes.values\n",
    "wkdy = df['Weekday'].cat.codes.values"
   ]
  },
  {
   "cell_type": "code",
   "execution_count": 80,
   "id": "7179fba8",
   "metadata": {},
   "outputs": [
    {
     "data": {
      "text/plain": [
       "array([ 4, 11,  7, ..., 14,  4, 12], dtype=int8)"
      ]
     },
     "execution_count": 80,
     "metadata": {},
     "output_type": "execute_result"
    }
   ],
   "source": [
    "#these are now only a large flat array\n",
    "hr"
   ]
  },
  {
   "cell_type": "code",
   "execution_count": 81,
   "id": "472f3cda",
   "metadata": {},
   "outputs": [],
   "source": [
    "#stack them together so they are in the same format as they originally were & as the actual datafrake\n",
    "\n",
    "#specify axis, column: axis = 1\n",
    "cats = np.stack([hr,ampm,wkdy],axis=1)"
   ]
  },
  {
   "cell_type": "code",
   "execution_count": 82,
   "id": "0169a4dc",
   "metadata": {},
   "outputs": [
    {
     "data": {
      "text/plain": [
       "array([[ 4,  0,  1],\n",
       "       [11,  0,  2],\n",
       "       [ 7,  0,  2],\n",
       "       ...,\n",
       "       [14,  1,  3],\n",
       "       [ 4,  0,  5],\n",
       "       [12,  1,  2]], dtype=int8)"
      ]
     },
     "execution_count": 82,
     "metadata": {},
     "output_type": "execute_result"
    }
   ],
   "source": [
    "cats"
   ]
  },
  {
   "cell_type": "code",
   "execution_count": 83,
   "id": "3b648717",
   "metadata": {},
   "outputs": [],
   "source": [
    "#OR all of these can be simplified into 1 line of function \n",
    "#df[col]=grab every column in categorical column,np.stack=stack them together\n",
    "#this is easier since can be manipulated by changing the var cat_cols\n",
    "#cats = np.stack([df[col].cat.codes.values for col in cat_cols],1)"
   ]
  },
  {
   "cell_type": "code",
   "execution_count": 84,
   "id": "ac3b7b1e",
   "metadata": {},
   "outputs": [],
   "source": [
    "#convert the numpy array into tensor\n",
    "cats = torch.tensor(cats,dtype=torch.int64)"
   ]
  },
  {
   "cell_type": "code",
   "execution_count": null,
   "id": "080e2a8f",
   "metadata": {},
   "outputs": [],
   "source": []
  },
  {
   "cell_type": "code",
   "execution_count": 85,
   "id": "b5557a75",
   "metadata": {},
   "outputs": [],
   "source": [
    "#do the same steps for continuous var\n",
    "conts = np.stack([df[col].values for col in cont_cols],1)"
   ]
  },
  {
   "cell_type": "code",
   "execution_count": 86,
   "id": "739fcb19",
   "metadata": {},
   "outputs": [
    {
     "data": {
      "text/plain": [
       "array([[-73.992365  ,  40.730521  , -73.975499  ,  40.744746  ,\n",
       "          1.        ,   2.12631159],\n",
       "       [-73.990078  ,  40.740558  , -73.974232  ,  40.744114  ,\n",
       "          1.        ,   1.39230687],\n",
       "       [-73.994149  ,  40.751118  , -73.960064  ,  40.766235  ,\n",
       "          2.        ,   3.32676344],\n",
       "       ...,\n",
       "       [-73.988574  ,  40.749772  , -74.011541  ,  40.707799  ,\n",
       "          3.        ,   5.05252282],\n",
       "       [-74.004449  ,  40.724529  , -73.992697  ,  40.730765  ,\n",
       "          1.        ,   1.20892296],\n",
       "       [-73.955415  ,  40.77192   , -73.967623  ,  40.763015  ,\n",
       "          3.        ,   1.42739869]])"
      ]
     },
     "execution_count": 86,
     "metadata": {},
     "output_type": "execute_result"
    }
   ],
   "source": [
    "conts"
   ]
  },
  {
   "cell_type": "code",
   "execution_count": 87,
   "id": "6c849e39",
   "metadata": {},
   "outputs": [],
   "source": [
    "#transform the numpy array into tensor\n",
    "conts = torch.tensor(conts,dtype=torch.float)"
   ]
  },
  {
   "cell_type": "code",
   "execution_count": 88,
   "id": "474ad08e",
   "metadata": {},
   "outputs": [
    {
     "data": {
      "text/plain": [
       "tensor([[-73.9924,  40.7305, -73.9755,  40.7447,   1.0000,   2.1263],\n",
       "        [-73.9901,  40.7406, -73.9742,  40.7441,   1.0000,   1.3923],\n",
       "        [-73.9941,  40.7511, -73.9601,  40.7662,   2.0000,   3.3268],\n",
       "        ...,\n",
       "        [-73.9886,  40.7498, -74.0115,  40.7078,   3.0000,   5.0525],\n",
       "        [-74.0044,  40.7245, -73.9927,  40.7308,   1.0000,   1.2089],\n",
       "        [-73.9554,  40.7719, -73.9676,  40.7630,   3.0000,   1.4274]])"
      ]
     },
     "execution_count": 88,
     "metadata": {},
     "output_type": "execute_result"
    }
   ],
   "source": [
    "conts"
   ]
  },
  {
   "cell_type": "code",
   "execution_count": 89,
   "id": "20fe9576",
   "metadata": {},
   "outputs": [
    {
     "data": {
      "text/plain": [
       "tensor([[ 6.5000],\n",
       "        [ 6.9000],\n",
       "        [10.1000],\n",
       "        ...,\n",
       "        [12.5000],\n",
       "        [ 4.9000],\n",
       "        [ 5.3000]])"
      ]
     },
     "execution_count": 89,
     "metadata": {},
     "output_type": "execute_result"
    }
   ],
   "source": [
    "#both category and continuous are converted into tensor\n",
    "#now we need to convert the label into tensor\n",
    "torch.tensor(df[y_col].values, dtype=torch.float)"
   ]
  },
  {
   "cell_type": "code",
   "execution_count": 90,
   "id": "52d4ad9a",
   "metadata": {},
   "outputs": [
    {
     "data": {
      "text/plain": [
       "tensor([[ 6.5000],\n",
       "        [ 6.9000],\n",
       "        [10.1000],\n",
       "        ...,\n",
       "        [12.5000],\n",
       "        [ 4.9000],\n",
       "        [ 5.3000]])"
      ]
     },
     "execution_count": 90,
     "metadata": {},
     "output_type": "execute_result"
    }
   ],
   "source": [
    "#to confirm the program keep the column shape, use reshape(-1,1)\n",
    "#especially for older tensr version\n",
    "torch.tensor(df[y_col].values, dtype=torch.float).reshape(-1,1)"
   ]
  },
  {
   "cell_type": "code",
   "execution_count": 91,
   "id": "6f6ea46d",
   "metadata": {},
   "outputs": [],
   "source": [
    "y = torch.tensor(df[y_col].values, dtype=torch.float).reshape(-1,1)"
   ]
  },
  {
   "cell_type": "code",
   "execution_count": 92,
   "id": "61cb8b55",
   "metadata": {},
   "outputs": [
    {
     "data": {
      "text/plain": [
       "torch.Size([120000, 3])"
      ]
     },
     "execution_count": 92,
     "metadata": {},
     "output_type": "execute_result"
    }
   ],
   "source": [
    "cats.shape"
   ]
  },
  {
   "cell_type": "code",
   "execution_count": 93,
   "id": "bd681f7c",
   "metadata": {},
   "outputs": [],
   "source": [
    "#we have 120000 points with 3 categorical columns"
   ]
  },
  {
   "cell_type": "code",
   "execution_count": 94,
   "id": "35fc6093",
   "metadata": {},
   "outputs": [
    {
     "data": {
      "text/plain": [
       "torch.Size([120000, 6])"
      ]
     },
     "execution_count": 94,
     "metadata": {},
     "output_type": "execute_result"
    }
   ],
   "source": [
    "conts.shape"
   ]
  },
  {
   "cell_type": "code",
   "execution_count": 95,
   "id": "62bb4d17",
   "metadata": {},
   "outputs": [],
   "source": [
    "#for continuous: 120000 records for 6 continuous features"
   ]
  },
  {
   "cell_type": "code",
   "execution_count": 96,
   "id": "3287f5f2",
   "metadata": {},
   "outputs": [
    {
     "data": {
      "text/plain": [
       "torch.Size([120000, 1])"
      ]
     },
     "execution_count": 96,
     "metadata": {},
     "output_type": "execute_result"
    }
   ],
   "source": [
    "y.shape"
   ]
  },
  {
   "cell_type": "code",
   "execution_count": 97,
   "id": "39da5466",
   "metadata": {},
   "outputs": [],
   "source": [
    "#same records with 1 y label per row"
   ]
  },
  {
   "cell_type": "code",
   "execution_count": null,
   "id": "fe2f241c",
   "metadata": {},
   "outputs": [],
   "source": []
  },
  {
   "cell_type": "code",
   "execution_count": 98,
   "id": "6130c78d",
   "metadata": {},
   "outputs": [],
   "source": [
    "#the last thing to do is to set embedding size for categorical columns\n",
    "#we are using embedding layers used with pytorch\n",
    "# = hard encoding of the categories\n",
    "\n",
    "#grab the category size\n",
    "cat_szs = [len(df[col].cat.categories)for col in cat_cols]\n"
   ]
  },
  {
   "cell_type": "code",
   "execution_count": 99,
   "id": "95fc9c7d",
   "metadata": {},
   "outputs": [
    {
     "data": {
      "text/plain": [
       "[24, 2, 7]"
      ]
     },
     "execution_count": 99,
     "metadata": {},
     "output_type": "execute_result"
    }
   ],
   "source": [
    "cat_szs"
   ]
  },
  {
   "cell_type": "code",
   "execution_count": 100,
   "id": "755d0de4",
   "metadata": {},
   "outputs": [],
   "source": [
    "#24 hour in a day, 2 = AM/PM, 7 = days in a week\n"
   ]
  },
  {
   "cell_type": "code",
   "execution_count": 101,
   "id": "dd5074a0",
   "metadata": {},
   "outputs": [],
   "source": [
    "#set embedding sized according to categories\n",
    "#formula = divide entry per unit column by 2\n",
    "\n",
    "# for size in cat_szs (the number 24,2,7), will take 50 or divided by 2 depending on the actual value\n",
    "# // to ensure we didn't get float, size+1 = just in case we only have 2 categories\n",
    "emb_szs = [(size,min(50,(size+1)//2)) for size in cat_szs]"
   ]
  },
  {
   "cell_type": "code",
   "execution_count": 102,
   "id": "e00b277a",
   "metadata": {},
   "outputs": [
    {
     "data": {
      "text/plain": [
       "[(24, 12), (2, 1), (7, 4)]"
      ]
     },
     "execution_count": 102,
     "metadata": {},
     "output_type": "execute_result"
    }
   ],
   "source": [
    "emb_szs"
   ]
  },
  {
   "cell_type": "code",
   "execution_count": 1,
   "id": "dc414ce7",
   "metadata": {},
   "outputs": [],
   "source": [
    "#since none exceed 50, we have the halves 12,1,4"
   ]
  },
  {
   "cell_type": "code",
   "execution_count": null,
   "id": "981a97ed",
   "metadata": {},
   "outputs": [],
   "source": []
  },
  {
   "cell_type": "code",
   "execution_count": null,
   "id": "3671ed6a",
   "metadata": {},
   "outputs": [],
   "source": []
  },
  {
   "cell_type": "code",
   "execution_count": 3,
   "id": "aeafef04",
   "metadata": {},
   "outputs": [],
   "source": [
    "#PART 3\n"
   ]
  },
  {
   "cell_type": "code",
   "execution_count": 103,
   "id": "cb2487b3",
   "metadata": {},
   "outputs": [
    {
     "data": {
      "text/plain": [
       "tensor([[ 4,  0,  1],\n",
       "        [11,  0,  2],\n",
       "        [ 7,  0,  2],\n",
       "        ...,\n",
       "        [14,  1,  3],\n",
       "        [ 4,  0,  5],\n",
       "        [12,  1,  2]])"
      ]
     },
     "execution_count": 103,
     "metadata": {},
     "output_type": "execute_result"
    }
   ],
   "source": [
    "#lets take slices of cats data\n",
    "#recall that these are categorical data\n",
    "cats"
   ]
  },
  {
   "cell_type": "code",
   "execution_count": 116,
   "id": "9e701984",
   "metadata": {},
   "outputs": [],
   "source": [
    "#define catz as slices\n",
    "#catz = cats[:4]\n",
    "catz = cats[:2]"
   ]
  },
  {
   "cell_type": "code",
   "execution_count": 105,
   "id": "ef922aa1",
   "metadata": {},
   "outputs": [
    {
     "data": {
      "text/plain": [
       "tensor([[ 4,  0,  1],\n",
       "        [11,  0,  2],\n",
       "        [ 7,  0,  2],\n",
       "        [17,  1,  3]])"
      ]
     },
     "execution_count": 105,
     "metadata": {},
     "output_type": "execute_result"
    }
   ],
   "source": [
    "catz"
   ]
  },
  {
   "cell_type": "code",
   "execution_count": 107,
   "id": "858c58f0",
   "metadata": {},
   "outputs": [
    {
     "data": {
      "text/plain": [
       "[Embedding(24, 12), Embedding(2, 1), Embedding(7, 4)]"
      ]
     },
     "execution_count": 107,
     "metadata": {},
     "output_type": "execute_result"
    }
   ],
   "source": [
    "#lets see what happen when we pass this into an embedding layer\n",
    "#take the num of embedding and dimension\n",
    "[nn.Embedding(ni,nf) for ni,nf in emb_szs]"
   ]
  },
  {
   "cell_type": "code",
   "execution_count": 109,
   "id": "f7d70901",
   "metadata": {},
   "outputs": [],
   "source": [
    "selfembeds = nn.ModuleList([nn.Embedding(ni,nf) for ni,nf in emb_szs])"
   ]
  },
  {
   "cell_type": "code",
   "execution_count": 110,
   "id": "7d2fef2b",
   "metadata": {},
   "outputs": [
    {
     "data": {
      "text/plain": [
       "ModuleList(\n",
       "  (0): Embedding(24, 12)\n",
       "  (1): Embedding(2, 1)\n",
       "  (2): Embedding(7, 4)\n",
       ")"
      ]
     },
     "execution_count": 110,
     "metadata": {},
     "output_type": "execute_result"
    }
   ],
   "source": [
    "#the data had breakdown, so its not that confusing\n",
    "#0- 24h\n",
    "#1- AM/PM\n",
    "#2-weekdays\n",
    "selfembeds"
   ]
  },
  {
   "cell_type": "code",
   "execution_count": 117,
   "id": "4edeb053",
   "metadata": {},
   "outputs": [],
   "source": [
    "#FORWARD METHOD (cats)\n",
    "embeddingz = []\n",
    "\n",
    "for i,e in enumerate(selfembeds):\n",
    "    embeddingz.append((e(catz[:,i])))"
   ]
  },
  {
   "cell_type": "code",
   "execution_count": 118,
   "id": "a04a8cc2",
   "metadata": {},
   "outputs": [
    {
     "data": {
      "text/plain": [
       "[tensor([[ 0.2593,  0.5300, -0.5729, -0.6761, -0.8515,  0.0625,  0.2811, -0.0936,\n",
       "          -0.8569,  1.1213,  0.4806, -1.5882],\n",
       "         [ 0.1247,  0.3654, -0.8861,  0.4066,  1.3563,  0.7798,  1.6231,  1.8025,\n",
       "          -0.7521,  0.5640, -1.1157,  1.2452]], grad_fn=<EmbeddingBackward>),\n",
       " tensor([[-0.0350],\n",
       "         [-0.0350]], grad_fn=<EmbeddingBackward>),\n",
       " tensor([[-0.5517,  0.7622, -0.5181,  0.5743],\n",
       "         [-1.2819, -0.8880, -0.6141,  1.1310]], grad_fn=<EmbeddingBackward>)]"
      ]
     },
     "execution_count": 118,
     "metadata": {},
     "output_type": "execute_result"
    }
   ],
   "source": [
    "embeddingz"
   ]
  },
  {
   "cell_type": "code",
   "execution_count": 119,
   "id": "36822f12",
   "metadata": {},
   "outputs": [],
   "source": [
    "#there are 24 items int the 1st tensor\n",
    "# 2 items in 2nd tensor\n",
    "# 8 items in 3rd tensor\n",
    "#those are the actual embedding, it's now givng values to the one hot encoding when we set the embedding table\n"
   ]
  },
  {
   "cell_type": "code",
   "execution_count": 120,
   "id": "5993613c",
   "metadata": {},
   "outputs": [],
   "source": [
    "#assign values to z, and concat\n",
    "z = torch.cat(embeddingz,1)"
   ]
  },
  {
   "cell_type": "code",
   "execution_count": 121,
   "id": "a25477df",
   "metadata": {},
   "outputs": [
    {
     "data": {
      "text/plain": [
       "tensor([[ 0.2593,  0.5300, -0.5729, -0.6761, -0.8515,  0.0625,  0.2811, -0.0936,\n",
       "         -0.8569,  1.1213,  0.4806, -1.5882, -0.0350, -0.5517,  0.7622, -0.5181,\n",
       "          0.5743],\n",
       "        [ 0.1247,  0.3654, -0.8861,  0.4066,  1.3563,  0.7798,  1.6231,  1.8025,\n",
       "         -0.7521,  0.5640, -1.1157,  1.2452, -0.0350, -1.2819, -0.8880, -0.6141,\n",
       "          1.1310]], grad_fn=<CatBackward>)"
      ]
     },
     "execution_count": 121,
     "metadata": {},
     "output_type": "execute_result"
    }
   ],
   "source": [
    "z"
   ]
  },
  {
   "cell_type": "code",
   "execution_count": 122,
   "id": "8d215c9f",
   "metadata": {},
   "outputs": [],
   "source": [
    "#pass through dropout layer\n",
    "#create a dropout layer\n",
    "#this layer, during training, it will randomized 0 some of the input tensor with probability we provide\n",
    "#this will auto turned off at 40% probability. This will avoid overfitting.\n",
    "selfembdrop = nn.Dropout(0.4)"
   ]
  },
  {
   "cell_type": "code",
   "execution_count": 123,
   "id": "f0802685",
   "metadata": {},
   "outputs": [],
   "source": [
    "z = selfembdrop(z)"
   ]
  },
  {
   "cell_type": "code",
   "execution_count": 124,
   "id": "516df6b4",
   "metadata": {},
   "outputs": [
    {
     "data": {
      "text/plain": [
       "tensor([[ 0.4322,  0.0000, -0.9549, -1.1268, -1.4192,  0.0000,  0.4685, -0.1560,\n",
       "         -0.0000,  0.0000,  0.8010, -0.0000, -0.0583, -0.0000,  1.2703, -0.8635,\n",
       "          0.9571],\n",
       "        [ 0.2078,  0.6091, -1.4769,  0.6777,  2.2605,  0.0000,  2.7052,  3.0041,\n",
       "         -1.2535,  0.9401, -1.8596,  2.0754, -0.0000, -2.1365, -1.4800, -1.0234,\n",
       "          1.8851]], grad_fn=<MulBackward0>)"
      ]
     },
     "execution_count": 124,
     "metadata": {},
     "output_type": "execute_result"
    }
   ],
   "source": [
    "#now we have categorical embeddings being passed to the layer\n",
    "z"
   ]
  },
  {
   "cell_type": "code",
   "execution_count": 125,
   "id": "5eae7d40",
   "metadata": {},
   "outputs": [],
   "source": [
    "#RECALL\n",
    "#we have embedding sizeslist of tuples emb_szs\n",
    "#(24, 12),  we have the num of categories & size of embedding\n",
    "# the size dimension of embedding follows the rule: min(50,(size+1)//2)\n",
    "#max at 50, & divided by 2, use // to ensure the num are int\n",
    "\n",
    "#then we build list of embedding layers, where each embedding layers correspond to the categories\n",
    "#0- 24h\n",
    "#1- AM/PM\n",
    "#2-weekdays\n",
    "\n",
    "#during the forward method, we end up applying values to each of those one hot encoding\n",
    "#until eventually we start to put strength to a certain point of the categorical data\n",
    "#maybe hour num 12 of the day--lunch hour OR PM coz its expensive, OR last 2 weekday(sat & sun)\n",
    "\n",
    "#we sticked them all into 1 tensor\n",
    "#applied Drop layer"
   ]
  },
  {
   "cell_type": "code",
   "execution_count": 3,
   "id": "9b740e05",
   "metadata": {},
   "outputs": [],
   "source": [
    "#now we need to create class for tabular model\n",
    "#this is complex model but its flexible\n",
    "#we can manipulate the numbers in the layer, eg: Layers = [200,100,50]\n",
    "class TabularModel(nn.Module):\n",
    "    \n",
    "    def __init__(self,emd_szs,n_cont,out_sz,layers,p=0.5):\n",
    "        \n",
    "        super.__init__()\n",
    "        \n",
    "        self.embeds = nn.ModuleList([nn.Embedding(ni,nf) for ni,nf in emb_szs])\n",
    "        #p -- can be defined (50% would be a good to start with)\n",
    "        self.emb_drop = nn.Dropout(p)\n",
    "        #normalize the continuous data, make sure they fall in the same magnitude\n",
    "        self.bn_cont = nn.BatchNorm1d(n_cont)\n",
    "        \n",
    "        layerlist = []\n",
    "        n_embs = sum([nf for ni,nf in emb_szs]) #number of total embedding layer\n",
    "        n_in = n_embs + n_cont\n",
    "        \n",
    "        #set layer\n",
    "        for i in layers:\n",
    "            #create a linear layer \n",
    "            layerlist.append(nn.Linear(n_in,i))\n",
    "            layerlist.append(nn.ReLu(inplace=True))\n",
    "            layerlist.append(nn.BatchNorm1d(i))\n",
    "            layerlist.append(nn.Dropout(p))\n",
    "            n_in = i\n",
    "        \n",
    "        #last value inside layer\n",
    "        layerlist.append(nn.Linear(layers[-1],out_sz))\n",
    "        \n",
    "        self.layers = nn.Sequential(*layerlist)\n",
    "            \n",
    "        \n",
    "    def forward(self,x_cat,x_cont):\n",
    "        embeddings = []\n",
    "        \n",
    "        for i,e in enumerate(self.embeds):\n",
    "            embeddings.append(e(x_cat[:,i]))\n",
    "            \n",
    "        x = torch.cat(embeddings,1)\n",
    "        x= self.emb_drop(x)\n",
    "        \n",
    "        x_cont = self.bn_cont(x_cont)\n",
    "        x = torch.cat([x,x_cont],1)\n",
    "        x = self.layers(x)\n",
    "        return x"
   ]
  },
  {
   "cell_type": "code",
   "execution_count": null,
   "id": "fbfd8782",
   "metadata": {},
   "outputs": [],
   "source": []
  }
 ],
 "metadata": {
  "kernelspec": {
   "display_name": "Python 3",
   "language": "python",
   "name": "python3"
  },
  "language_info": {
   "codemirror_mode": {
    "name": "ipython",
    "version": 3
   },
   "file_extension": ".py",
   "mimetype": "text/x-python",
   "name": "python",
   "nbconvert_exporter": "python",
   "pygments_lexer": "ipython3",
   "version": "3.7.3"
  }
 },
 "nbformat": 4,
 "nbformat_minor": 5
}
