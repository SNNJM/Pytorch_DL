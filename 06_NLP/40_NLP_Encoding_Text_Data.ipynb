{
 "cells": [
  {
   "cell_type": "code",
   "execution_count": 1,
   "id": "d151dd0a",
   "metadata": {},
   "outputs": [],
   "source": [
    "import torch\n",
    "from torch import nn\n",
    "import torch.nn.functional as F"
   ]
  },
  {
   "cell_type": "code",
   "execution_count": 2,
   "id": "3e9996c9",
   "metadata": {},
   "outputs": [],
   "source": [
    "import numpy as np\n",
    "import matplotlib.pyplot as plt\n",
    "%matplotlib inline"
   ]
  },
  {
   "cell_type": "code",
   "execution_count": 3,
   "id": "946a3423",
   "metadata": {},
   "outputs": [],
   "source": [
    "#--------------------------------Get Text Data------------------------------\n",
    "with open('../Data/shakespeare.txt','r',encoding='utf8') as f:\n",
    "    text = f.read()"
   ]
  },
  {
   "cell_type": "code",
   "execution_count": 4,
   "id": "7706b175",
   "metadata": {},
   "outputs": [
    {
     "data": {
      "text/plain": [
       "str"
      ]
     },
     "execution_count": 4,
     "metadata": {},
     "output_type": "execute_result"
    }
   ],
   "source": [
    "type(text)"
   ]
  },
  {
   "cell_type": "code",
   "execution_count": 5,
   "id": "02260b5d",
   "metadata": {},
   "outputs": [
    {
     "data": {
      "text/plain": [
       "\"\\n                     1\\n  From fairest creatures we desire increase,\\n  That thereby beauty's rose might never die,\\n  But as the riper should by time decease,\\n  His tender heir might bear his memory:\\n  But thou contracted to thine own bright eyes,\\n  Feed'st thy light's flame with self-substantial fuel,\\n  Making a famine where abundance lies,\\n  Thy self thy foe, to thy sweet self too cruel:\\n  Thou that art now the world's fresh ornament,\\n  And only herald to the gaudy spring,\\n  Within thine own bud buriest thy content,\\n  And tender churl mak'st waste in niggarding:\\n    Pity the world, or else this glutton be,\\n    To eat the world's due, by the grave and thee.\\n\\n\\n                     2\\n  When forty winters shall besiege thy brow,\\n  And dig deep trenches in thy beauty's field,\\n  Thy youth's proud livery so gazed on now,\\n  Will be a tattered weed of small worth held:  \\n  Then being asked, where all thy beauty lies,\\n  Where all the treasure of thy lusty days;\\n  To say within thine own deep su\""
      ]
     },
     "execution_count": 5,
     "metadata": {},
     "output_type": "execute_result"
    }
   ],
   "source": [
    "text[:1000] #1st 1k char --raw str"
   ]
  },
  {
   "cell_type": "code",
   "execution_count": 6,
   "id": "2ba4decf",
   "metadata": {},
   "outputs": [
    {
     "name": "stdout",
     "output_type": "stream",
     "text": [
      "\n",
      "                     1\n",
      "  From fairest creatures we desire increase,\n",
      "  That thereby beauty's rose might never die,\n",
      "  But as the riper should by time decease,\n",
      "  His tender heir might bear his memory:\n",
      "  But thou contracted to thine own bright eyes,\n",
      "  Feed'st thy light's flame with self-substantial fuel,\n",
      "  Making a famine where abundance lies,\n",
      "  Thy self thy foe, to thy sweet self too cruel:\n",
      "  Thou that art now the world's fresh ornament,\n",
      "  And only herald to the gaudy spring,\n",
      "  Within thine own bud buriest thy content,\n",
      "  And tender churl mak'st waste in niggarding:\n",
      "    Pity the world, or else this glutton be,\n",
      "    To eat the world's due, by the grave and thee.\n",
      "\n",
      "\n",
      "                     2\n",
      "  When forty winters shall besiege thy brow,\n",
      "  And dig deep trenches in thy beauty's field,\n",
      "  Thy youth's proud livery so gazed on now,\n",
      "  Will be a tattered weed of small worth held:  \n",
      "  Then being asked, where all thy beauty lies,\n",
      "  Where all the treasure of thy lusty days;\n",
      "  To say within thine own deep su\n"
     ]
    }
   ],
   "source": [
    "print(text[:1000])"
   ]
  },
  {
   "cell_type": "code",
   "execution_count": 7,
   "id": "145155f2",
   "metadata": {},
   "outputs": [
    {
     "data": {
      "text/plain": [
       "5445609"
      ]
     },
     "execution_count": 7,
     "metadata": {},
     "output_type": "execute_result"
    }
   ],
   "source": [
    "len(text)"
   ]
  },
  {
   "cell_type": "code",
   "execution_count": 8,
   "id": "f453fba4",
   "metadata": {},
   "outputs": [],
   "source": [
    "#----------------------------------Encode Entire Text-----------------------\n",
    "#Figure out all unique characters in the text\n",
    "all_characters = set(text)"
   ]
  },
  {
   "cell_type": "code",
   "execution_count": 9,
   "id": "167df4d0",
   "metadata": {},
   "outputs": [
    {
     "data": {
      "text/plain": [
       "{'\\n',\n",
       " ' ',\n",
       " '!',\n",
       " '\"',\n",
       " '&',\n",
       " \"'\",\n",
       " '(',\n",
       " ')',\n",
       " ',',\n",
       " '-',\n",
       " '.',\n",
       " '0',\n",
       " '1',\n",
       " '2',\n",
       " '3',\n",
       " '4',\n",
       " '5',\n",
       " '6',\n",
       " '7',\n",
       " '8',\n",
       " '9',\n",
       " ':',\n",
       " ';',\n",
       " '<',\n",
       " '>',\n",
       " '?',\n",
       " 'A',\n",
       " 'B',\n",
       " 'C',\n",
       " 'D',\n",
       " 'E',\n",
       " 'F',\n",
       " 'G',\n",
       " 'H',\n",
       " 'I',\n",
       " 'J',\n",
       " 'K',\n",
       " 'L',\n",
       " 'M',\n",
       " 'N',\n",
       " 'O',\n",
       " 'P',\n",
       " 'Q',\n",
       " 'R',\n",
       " 'S',\n",
       " 'T',\n",
       " 'U',\n",
       " 'V',\n",
       " 'W',\n",
       " 'X',\n",
       " 'Y',\n",
       " 'Z',\n",
       " '[',\n",
       " ']',\n",
       " '_',\n",
       " '`',\n",
       " 'a',\n",
       " 'b',\n",
       " 'c',\n",
       " 'd',\n",
       " 'e',\n",
       " 'f',\n",
       " 'g',\n",
       " 'h',\n",
       " 'i',\n",
       " 'j',\n",
       " 'k',\n",
       " 'l',\n",
       " 'm',\n",
       " 'n',\n",
       " 'o',\n",
       " 'p',\n",
       " 'q',\n",
       " 'r',\n",
       " 's',\n",
       " 't',\n",
       " 'u',\n",
       " 'v',\n",
       " 'w',\n",
       " 'x',\n",
       " 'y',\n",
       " 'z',\n",
       " '|',\n",
       " '}'}"
      ]
     },
     "execution_count": 9,
     "metadata": {},
     "output_type": "execute_result"
    }
   ],
   "source": [
    "all_characters"
   ]
  },
  {
   "cell_type": "code",
   "execution_count": 10,
   "id": "19b51a4f",
   "metadata": {},
   "outputs": [
    {
     "data": {
      "text/plain": [
       "84"
      ]
     },
     "execution_count": 10,
     "metadata": {},
     "output_type": "execute_result"
    }
   ],
   "source": [
    "len(all_characters) #total 84 unique char"
   ]
  },
  {
   "cell_type": "code",
   "execution_count": 11,
   "id": "91c0fc46",
   "metadata": {},
   "outputs": [],
   "source": [
    "#Encoder will take a char & returns its encoded number\n",
    "#Decoder would do the opposite"
   ]
  },
  {
   "cell_type": "code",
   "execution_count": 13,
   "id": "86e1f397",
   "metadata": {},
   "outputs": [
    {
     "name": "stdout",
     "output_type": "stream",
     "text": [
      "(0, '>')\n",
      "(1, 'G')\n",
      "(2, 'x')\n",
      "(3, 't')\n",
      "(4, ':')\n",
      "(5, ',')\n",
      "(6, '.')\n",
      "(7, '[')\n",
      "(8, '!')\n",
      "(9, 'k')\n",
      "(10, 'm')\n",
      "(11, 'w')\n",
      "(12, 'f')\n",
      "(13, 'j')\n",
      "(14, 'n')\n",
      "(15, '2')\n",
      "(16, 'Y')\n",
      "(17, 'q')\n",
      "(18, '?')\n",
      "(19, 'o')\n",
      "(20, 'r')\n",
      "(21, 'u')\n",
      "(22, 'l')\n",
      "(23, 'd')\n",
      "(24, ' ')\n",
      "(25, '9')\n",
      "(26, 'P')\n",
      "(27, ';')\n",
      "(28, 'h')\n",
      "(29, '5')\n",
      "(30, 'Z')\n",
      "(31, \"'\")\n",
      "(32, '7')\n",
      "(33, 'A')\n",
      "(34, '&')\n",
      "(35, 'v')\n",
      "(36, 'i')\n",
      "(37, 'b')\n",
      "(38, ')')\n",
      "(39, '<')\n",
      "(40, 'D')\n",
      "(41, 'J')\n",
      "(42, 'F')\n",
      "(43, '\"')\n",
      "(44, '`')\n",
      "(45, '}')\n",
      "(46, 'X')\n",
      "(47, 'Q')\n",
      "(48, 'H')\n",
      "(49, 'O')\n",
      "(50, 'B')\n",
      "(51, ']')\n",
      "(52, '_')\n",
      "(53, 'z')\n",
      "(54, '4')\n",
      "(55, 'I')\n",
      "(56, '(')\n",
      "(57, '3')\n",
      "(58, 'c')\n",
      "(59, 'K')\n",
      "(60, '-')\n",
      "(61, '0')\n",
      "(62, 'V')\n",
      "(63, '|')\n",
      "(64, 'N')\n",
      "(65, 'R')\n",
      "(66, 'y')\n",
      "(67, 'S')\n",
      "(68, 'T')\n",
      "(69, '\\n')\n",
      "(70, 'L')\n",
      "(71, 'e')\n",
      "(72, 'E')\n",
      "(73, 's')\n",
      "(74, 'M')\n",
      "(75, 'C')\n",
      "(76, '8')\n",
      "(77, 'g')\n",
      "(78, 'p')\n",
      "(79, '6')\n",
      "(80, '1')\n",
      "(81, 'U')\n",
      "(82, 'a')\n",
      "(83, 'W')\n"
     ]
    }
   ],
   "source": [
    "#enumerate(all_characters) would assign number to unique char\n",
    "for pair in enumerate(all_characters):\n",
    "    print(pair)"
   ]
  },
  {
   "cell_type": "code",
   "execution_count": 18,
   "id": "d40eec8c",
   "metadata": {},
   "outputs": [],
   "source": [
    "# num --> Letter\n",
    "decoder = dict(enumerate(all_characters))"
   ]
  },
  {
   "cell_type": "code",
   "execution_count": 19,
   "id": "ef6179b1",
   "metadata": {},
   "outputs": [
    {
     "data": {
      "text/plain": [
       "{0: '>',\n",
       " 1: 'G',\n",
       " 2: 'x',\n",
       " 3: 't',\n",
       " 4: ':',\n",
       " 5: ',',\n",
       " 6: '.',\n",
       " 7: '[',\n",
       " 8: '!',\n",
       " 9: 'k',\n",
       " 10: 'm',\n",
       " 11: 'w',\n",
       " 12: 'f',\n",
       " 13: 'j',\n",
       " 14: 'n',\n",
       " 15: '2',\n",
       " 16: 'Y',\n",
       " 17: 'q',\n",
       " 18: '?',\n",
       " 19: 'o',\n",
       " 20: 'r',\n",
       " 21: 'u',\n",
       " 22: 'l',\n",
       " 23: 'd',\n",
       " 24: ' ',\n",
       " 25: '9',\n",
       " 26: 'P',\n",
       " 27: ';',\n",
       " 28: 'h',\n",
       " 29: '5',\n",
       " 30: 'Z',\n",
       " 31: \"'\",\n",
       " 32: '7',\n",
       " 33: 'A',\n",
       " 34: '&',\n",
       " 35: 'v',\n",
       " 36: 'i',\n",
       " 37: 'b',\n",
       " 38: ')',\n",
       " 39: '<',\n",
       " 40: 'D',\n",
       " 41: 'J',\n",
       " 42: 'F',\n",
       " 43: '\"',\n",
       " 44: '`',\n",
       " 45: '}',\n",
       " 46: 'X',\n",
       " 47: 'Q',\n",
       " 48: 'H',\n",
       " 49: 'O',\n",
       " 50: 'B',\n",
       " 51: ']',\n",
       " 52: '_',\n",
       " 53: 'z',\n",
       " 54: '4',\n",
       " 55: 'I',\n",
       " 56: '(',\n",
       " 57: '3',\n",
       " 58: 'c',\n",
       " 59: 'K',\n",
       " 60: '-',\n",
       " 61: '0',\n",
       " 62: 'V',\n",
       " 63: '|',\n",
       " 64: 'N',\n",
       " 65: 'R',\n",
       " 66: 'y',\n",
       " 67: 'S',\n",
       " 68: 'T',\n",
       " 69: '\\n',\n",
       " 70: 'L',\n",
       " 71: 'e',\n",
       " 72: 'E',\n",
       " 73: 's',\n",
       " 74: 'M',\n",
       " 75: 'C',\n",
       " 76: '8',\n",
       " 77: 'g',\n",
       " 78: 'p',\n",
       " 79: '6',\n",
       " 80: '1',\n",
       " 81: 'U',\n",
       " 82: 'a',\n",
       " 83: 'W'}"
      ]
     },
     "execution_count": 19,
     "metadata": {},
     "output_type": "execute_result"
    }
   ],
   "source": [
    "decoder"
   ]
  },
  {
   "cell_type": "code",
   "execution_count": 20,
   "id": "7efea85a",
   "metadata": {},
   "outputs": [],
   "source": [
    "#Letter --> num\n",
    "encoder = {char: ind for ind,char in decoder.items()}"
   ]
  },
  {
   "cell_type": "code",
   "execution_count": 21,
   "id": "3536b86f",
   "metadata": {},
   "outputs": [
    {
     "data": {
      "text/plain": [
       "{'>': 0,\n",
       " 'G': 1,\n",
       " 'x': 2,\n",
       " 't': 3,\n",
       " ':': 4,\n",
       " ',': 5,\n",
       " '.': 6,\n",
       " '[': 7,\n",
       " '!': 8,\n",
       " 'k': 9,\n",
       " 'm': 10,\n",
       " 'w': 11,\n",
       " 'f': 12,\n",
       " 'j': 13,\n",
       " 'n': 14,\n",
       " '2': 15,\n",
       " 'Y': 16,\n",
       " 'q': 17,\n",
       " '?': 18,\n",
       " 'o': 19,\n",
       " 'r': 20,\n",
       " 'u': 21,\n",
       " 'l': 22,\n",
       " 'd': 23,\n",
       " ' ': 24,\n",
       " '9': 25,\n",
       " 'P': 26,\n",
       " ';': 27,\n",
       " 'h': 28,\n",
       " '5': 29,\n",
       " 'Z': 30,\n",
       " \"'\": 31,\n",
       " '7': 32,\n",
       " 'A': 33,\n",
       " '&': 34,\n",
       " 'v': 35,\n",
       " 'i': 36,\n",
       " 'b': 37,\n",
       " ')': 38,\n",
       " '<': 39,\n",
       " 'D': 40,\n",
       " 'J': 41,\n",
       " 'F': 42,\n",
       " '\"': 43,\n",
       " '`': 44,\n",
       " '}': 45,\n",
       " 'X': 46,\n",
       " 'Q': 47,\n",
       " 'H': 48,\n",
       " 'O': 49,\n",
       " 'B': 50,\n",
       " ']': 51,\n",
       " '_': 52,\n",
       " 'z': 53,\n",
       " '4': 54,\n",
       " 'I': 55,\n",
       " '(': 56,\n",
       " '3': 57,\n",
       " 'c': 58,\n",
       " 'K': 59,\n",
       " '-': 60,\n",
       " '0': 61,\n",
       " 'V': 62,\n",
       " '|': 63,\n",
       " 'N': 64,\n",
       " 'R': 65,\n",
       " 'y': 66,\n",
       " 'S': 67,\n",
       " 'T': 68,\n",
       " '\\n': 69,\n",
       " 'L': 70,\n",
       " 'e': 71,\n",
       " 'E': 72,\n",
       " 's': 73,\n",
       " 'M': 74,\n",
       " 'C': 75,\n",
       " '8': 76,\n",
       " 'g': 77,\n",
       " 'p': 78,\n",
       " '6': 79,\n",
       " '1': 80,\n",
       " 'U': 81,\n",
       " 'a': 82,\n",
       " 'W': 83}"
      ]
     },
     "execution_count": 21,
     "metadata": {},
     "output_type": "execute_result"
    }
   ],
   "source": [
    "encoder"
   ]
  },
  {
   "cell_type": "code",
   "execution_count": 22,
   "id": "00dedc0d",
   "metadata": {},
   "outputs": [],
   "source": [
    "#ensure encoder & decoder match -->represent the same char with num"
   ]
  },
  {
   "cell_type": "code",
   "execution_count": 23,
   "id": "d03ac2f2",
   "metadata": {},
   "outputs": [],
   "source": [
    "# take all txt & encode it so it has numerical info aspect to it\n",
    "encoded_text = np.array([encoder[char] for char in text])"
   ]
  },
  {
   "cell_type": "code",
   "execution_count": 24,
   "id": "803a3dca",
   "metadata": {},
   "outputs": [
    {
     "data": {
      "text/plain": [
       "array([69, 24, 24, 24, 24, 24, 24, 24, 24, 24, 24, 24, 24, 24, 24, 24, 24,\n",
       "       24, 24, 24, 24, 24, 80, 69, 24, 24, 42, 20, 19, 10, 24, 12, 82, 36,\n",
       "       20, 71, 73,  3, 24, 58, 20, 71, 82,  3, 21, 20, 71, 73, 24, 11, 71,\n",
       "       24, 23, 71, 73, 36, 20, 71, 24, 36, 14, 58, 20, 71, 82, 73, 71,  5,\n",
       "       69, 24, 24, 68, 28, 82,  3, 24,  3, 28, 71, 20, 71, 37, 66, 24, 37,\n",
       "       71, 82, 21,  3, 66, 31, 73, 24, 20, 19, 73, 71, 24, 10, 36, 77, 28,\n",
       "        3, 24, 14, 71, 35, 71, 20, 24, 23, 36, 71,  5, 69, 24, 24, 50, 21,\n",
       "        3, 24, 82, 73, 24,  3, 28, 71, 24, 20, 36, 78, 71, 20, 24, 73, 28,\n",
       "       19, 21, 22, 23, 24, 37, 66, 24,  3, 36, 10, 71, 24, 23, 71, 58, 71,\n",
       "       82, 73, 71,  5, 69, 24, 24, 48, 36, 73, 24,  3, 71, 14, 23, 71, 20,\n",
       "       24, 28, 71, 36, 20, 24, 10, 36, 77, 28,  3, 24, 37, 71, 82, 20, 24,\n",
       "       28, 36, 73, 24, 10, 71, 10, 19, 20, 66,  4, 69, 24, 24, 50, 21,  3,\n",
       "       24,  3, 28, 19, 21, 24, 58, 19, 14,  3, 20, 82, 58,  3, 71, 23, 24,\n",
       "        3, 19, 24,  3, 28, 36, 14, 71, 24, 19, 11, 14, 24, 37, 20, 36, 77,\n",
       "       28,  3, 24, 71, 66, 71, 73,  5, 69, 24, 24, 42, 71, 71, 23, 31, 73,\n",
       "        3, 24,  3, 28, 66, 24, 22, 36, 77, 28,  3, 31, 73, 24, 12, 22, 82,\n",
       "       10, 71, 24, 11, 36,  3, 28, 24, 73, 71, 22, 12, 60, 73, 21, 37, 73,\n",
       "        3, 82, 14,  3, 36, 82, 22, 24, 12, 21, 71, 22,  5, 69, 24, 24, 74,\n",
       "       82,  9, 36, 14, 77, 24, 82, 24, 12, 82, 10, 36, 14, 71, 24, 11, 28,\n",
       "       71, 20, 71, 24, 82, 37, 21, 14, 23, 82, 14, 58, 71, 24, 22, 36, 71,\n",
       "       73,  5, 69, 24, 24, 68, 28, 66, 24, 73, 71, 22, 12, 24,  3, 28, 66,\n",
       "       24, 12, 19, 71,  5, 24,  3, 19, 24,  3, 28, 66, 24, 73, 11, 71, 71,\n",
       "        3, 24, 73, 71, 22, 12, 24,  3, 19, 19, 24, 58, 20, 21, 71, 22,  4,\n",
       "       69, 24, 24, 68, 28, 19, 21, 24,  3, 28, 82,  3, 24, 82, 20,  3, 24,\n",
       "       14, 19, 11, 24,  3, 28, 71, 24, 11, 19, 20, 22, 23, 31, 73, 24, 12,\n",
       "       20, 71, 73, 28, 24, 19, 20, 14, 82, 10, 71, 14,  3,  5, 69, 24, 24,\n",
       "       33, 14, 23, 24, 19, 14, 22, 66, 24, 28, 71, 20, 82, 22, 23, 24,  3,\n",
       "       19, 24,  3, 28, 71, 24, 77, 82, 21, 23, 66, 24, 73, 78, 20, 36, 14,\n",
       "       77,  5, 69, 24, 24, 83, 36,  3, 28, 36, 14, 24,  3, 28, 36, 14, 71,\n",
       "       24, 19, 11, 14, 24, 37, 21])"
      ]
     },
     "execution_count": 24,
     "metadata": {},
     "output_type": "execute_result"
    }
   ],
   "source": [
    "encoded_text[:500]"
   ]
  },
  {
   "cell_type": "code",
   "execution_count": 25,
   "id": "e0e7b228",
   "metadata": {},
   "outputs": [],
   "source": [
    "#----------------------------One Hot Encoding-------------------------------\n",
    "#we need to one-hot encode our data inorder for it to work with the network structure. \n",
    "def one_hot_encoder(encoded_text, num_uni_chars):\n",
    "    #encode_text --> batch of encoded text\n",
    "    #num_uni_chars --> len(set(text))\n",
    "    \n",
    "    \n",
    "    '''\n",
    "    encoded_text : batch of encoded text\n",
    "    \n",
    "    num_uni_chars = number of unique characters (len(set(text)))\n",
    "    '''\n",
    "    \n",
    "    # METHOD FROM:\n",
    "    # https://stackoverflow.com/questions/29831489/convert-encoded_textay-of-indices-to-1-hot-encoded-numpy-encoded_textay\n",
    "      \n",
    "    # Create a placeholder for zeros.\n",
    "    one_hot = np.zeros((encoded_text.size, num_uni_chars))\n",
    "    \n",
    "    # Convert data type for later use with pytorch (errors if we dont!)\n",
    "    one_hot = one_hot.astype(np.float32)\n",
    "\n",
    "    # Using fancy indexing fill in the 1s at the correct index locations\n",
    "    one_hot[np.arange(one_hot.shape[0]), encoded_text.flatten()] = 1.0\n",
    "    \n",
    "\n",
    "    # Reshape it so it matches the batch sahe\n",
    "    one_hot = one_hot.reshape((*encoded_text.shape, num_uni_chars))\n",
    "    \n",
    "    return one_hot"
   ]
  },
  {
   "cell_type": "code",
   "execution_count": 28,
   "id": "0a47774b",
   "metadata": {},
   "outputs": [],
   "source": [
    "arr = np.array([1,2,0])"
   ]
  },
  {
   "cell_type": "code",
   "execution_count": 29,
   "id": "02ae69f6",
   "metadata": {},
   "outputs": [
    {
     "data": {
      "text/plain": [
       "array([1, 2, 0])"
      ]
     },
     "execution_count": 29,
     "metadata": {},
     "output_type": "execute_result"
    }
   ],
   "source": [
    "arr"
   ]
  },
  {
   "cell_type": "code",
   "execution_count": 30,
   "id": "012afeb9",
   "metadata": {},
   "outputs": [
    {
     "data": {
      "text/plain": [
       "array([[0., 1., 0.],\n",
       "       [0., 0., 1.],\n",
       "       [1., 0., 0.]], dtype=float32)"
      ]
     },
     "execution_count": 30,
     "metadata": {},
     "output_type": "execute_result"
    }
   ],
   "source": [
    "one_hot_encoder(arr,3)"
   ]
  },
  {
   "cell_type": "code",
   "execution_count": null,
   "id": "374109e7",
   "metadata": {},
   "outputs": [],
   "source": []
  },
  {
   "cell_type": "code",
   "execution_count": null,
   "id": "81d80d73",
   "metadata": {},
   "outputs": [],
   "source": []
  },
  {
   "cell_type": "code",
   "execution_count": null,
   "id": "51498742",
   "metadata": {},
   "outputs": [],
   "source": [
    "#----------------------------Creating Training Batches----------------------\n"
   ]
  }
 ],
 "metadata": {
  "kernelspec": {
   "display_name": "Python 3",
   "language": "python",
   "name": "python3"
  },
  "language_info": {
   "codemirror_mode": {
    "name": "ipython",
    "version": 3
   },
   "file_extension": ".py",
   "mimetype": "text/x-python",
   "name": "python",
   "nbconvert_exporter": "python",
   "pygments_lexer": "ipython3",
   "version": "3.7.3"
  }
 },
 "nbformat": 4,
 "nbformat_minor": 5
}
