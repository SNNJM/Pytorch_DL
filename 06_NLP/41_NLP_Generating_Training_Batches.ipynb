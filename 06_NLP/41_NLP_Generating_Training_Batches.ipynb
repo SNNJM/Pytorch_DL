{
 "cells": [
  {
   "cell_type": "code",
   "execution_count": 1,
   "id": "d151dd0a",
   "metadata": {},
   "outputs": [],
   "source": [
    "import torch\n",
    "from torch import nn\n",
    "import torch.nn.functional as F"
   ]
  },
  {
   "cell_type": "code",
   "execution_count": 2,
   "id": "3e9996c9",
   "metadata": {},
   "outputs": [],
   "source": [
    "import numpy as np\n",
    "import matplotlib.pyplot as plt\n",
    "%matplotlib inline"
   ]
  },
  {
   "cell_type": "code",
   "execution_count": 3,
   "id": "946a3423",
   "metadata": {},
   "outputs": [],
   "source": [
    "#--------------------------------Get Text Data------------------------------\n",
    "with open('../Data/shakespeare.txt','r',encoding='utf8') as f:\n",
    "    text = f.read()"
   ]
  },
  {
   "cell_type": "code",
   "execution_count": 4,
   "id": "7706b175",
   "metadata": {},
   "outputs": [
    {
     "data": {
      "text/plain": [
       "str"
      ]
     },
     "execution_count": 4,
     "metadata": {},
     "output_type": "execute_result"
    }
   ],
   "source": [
    "type(text)"
   ]
  },
  {
   "cell_type": "code",
   "execution_count": 5,
   "id": "02260b5d",
   "metadata": {},
   "outputs": [
    {
     "data": {
      "text/plain": [
       "\"\\n                     1\\n  From fairest creatures we desire increase,\\n  That thereby beauty's rose might never die,\\n  But as the riper should by time decease,\\n  His tender heir might bear his memory:\\n  But thou contracted to thine own bright eyes,\\n  Feed'st thy light's flame with self-substantial fuel,\\n  Making a famine where abundance lies,\\n  Thy self thy foe, to thy sweet self too cruel:\\n  Thou that art now the world's fresh ornament,\\n  And only herald to the gaudy spring,\\n  Within thine own bud buriest thy content,\\n  And tender churl mak'st waste in niggarding:\\n    Pity the world, or else this glutton be,\\n    To eat the world's due, by the grave and thee.\\n\\n\\n                     2\\n  When forty winters shall besiege thy brow,\\n  And dig deep trenches in thy beauty's field,\\n  Thy youth's proud livery so gazed on now,\\n  Will be a tattered weed of small worth held:  \\n  Then being asked, where all thy beauty lies,\\n  Where all the treasure of thy lusty days;\\n  To say within thine own deep su\""
      ]
     },
     "execution_count": 5,
     "metadata": {},
     "output_type": "execute_result"
    }
   ],
   "source": [
    "text[:1000] #1st 1k char --raw str"
   ]
  },
  {
   "cell_type": "code",
   "execution_count": 6,
   "id": "2ba4decf",
   "metadata": {},
   "outputs": [
    {
     "name": "stdout",
     "output_type": "stream",
     "text": [
      "\n",
      "                     1\n",
      "  From fairest creatures we desire increase,\n",
      "  That thereby beauty's rose might never die,\n",
      "  But as the riper should by time decease,\n",
      "  His tender heir might bear his memory:\n",
      "  But thou contracted to thine own bright eyes,\n",
      "  Feed'st thy light's flame with self-substantial fuel,\n",
      "  Making a famine where abundance lies,\n",
      "  Thy self thy foe, to thy sweet self too cruel:\n",
      "  Thou that art now the world's fresh ornament,\n",
      "  And only herald to the gaudy spring,\n",
      "  Within thine own bud buriest thy content,\n",
      "  And tender churl mak'st waste in niggarding:\n",
      "    Pity the world, or else this glutton be,\n",
      "    To eat the world's due, by the grave and thee.\n",
      "\n",
      "\n",
      "                     2\n",
      "  When forty winters shall besiege thy brow,\n",
      "  And dig deep trenches in thy beauty's field,\n",
      "  Thy youth's proud livery so gazed on now,\n",
      "  Will be a tattered weed of small worth held:  \n",
      "  Then being asked, where all thy beauty lies,\n",
      "  Where all the treasure of thy lusty days;\n",
      "  To say within thine own deep su\n"
     ]
    }
   ],
   "source": [
    "print(text[:1000])"
   ]
  },
  {
   "cell_type": "code",
   "execution_count": 7,
   "id": "145155f2",
   "metadata": {},
   "outputs": [
    {
     "data": {
      "text/plain": [
       "5445609"
      ]
     },
     "execution_count": 7,
     "metadata": {},
     "output_type": "execute_result"
    }
   ],
   "source": [
    "len(text)"
   ]
  },
  {
   "cell_type": "code",
   "execution_count": 8,
   "id": "f453fba4",
   "metadata": {},
   "outputs": [],
   "source": [
    "#----------------------------------Encode Entire Text-----------------------\n",
    "#Figure out all unique characters in the text\n",
    "all_characters = set(text)"
   ]
  },
  {
   "cell_type": "code",
   "execution_count": 9,
   "id": "167df4d0",
   "metadata": {},
   "outputs": [
    {
     "data": {
      "text/plain": [
       "{'\\n',\n",
       " ' ',\n",
       " '!',\n",
       " '\"',\n",
       " '&',\n",
       " \"'\",\n",
       " '(',\n",
       " ')',\n",
       " ',',\n",
       " '-',\n",
       " '.',\n",
       " '0',\n",
       " '1',\n",
       " '2',\n",
       " '3',\n",
       " '4',\n",
       " '5',\n",
       " '6',\n",
       " '7',\n",
       " '8',\n",
       " '9',\n",
       " ':',\n",
       " ';',\n",
       " '<',\n",
       " '>',\n",
       " '?',\n",
       " 'A',\n",
       " 'B',\n",
       " 'C',\n",
       " 'D',\n",
       " 'E',\n",
       " 'F',\n",
       " 'G',\n",
       " 'H',\n",
       " 'I',\n",
       " 'J',\n",
       " 'K',\n",
       " 'L',\n",
       " 'M',\n",
       " 'N',\n",
       " 'O',\n",
       " 'P',\n",
       " 'Q',\n",
       " 'R',\n",
       " 'S',\n",
       " 'T',\n",
       " 'U',\n",
       " 'V',\n",
       " 'W',\n",
       " 'X',\n",
       " 'Y',\n",
       " 'Z',\n",
       " '[',\n",
       " ']',\n",
       " '_',\n",
       " '`',\n",
       " 'a',\n",
       " 'b',\n",
       " 'c',\n",
       " 'd',\n",
       " 'e',\n",
       " 'f',\n",
       " 'g',\n",
       " 'h',\n",
       " 'i',\n",
       " 'j',\n",
       " 'k',\n",
       " 'l',\n",
       " 'm',\n",
       " 'n',\n",
       " 'o',\n",
       " 'p',\n",
       " 'q',\n",
       " 'r',\n",
       " 's',\n",
       " 't',\n",
       " 'u',\n",
       " 'v',\n",
       " 'w',\n",
       " 'x',\n",
       " 'y',\n",
       " 'z',\n",
       " '|',\n",
       " '}'}"
      ]
     },
     "execution_count": 9,
     "metadata": {},
     "output_type": "execute_result"
    }
   ],
   "source": [
    "all_characters"
   ]
  },
  {
   "cell_type": "code",
   "execution_count": 10,
   "id": "19b51a4f",
   "metadata": {},
   "outputs": [
    {
     "data": {
      "text/plain": [
       "84"
      ]
     },
     "execution_count": 10,
     "metadata": {},
     "output_type": "execute_result"
    }
   ],
   "source": [
    "len(all_characters) #total 84 unique char"
   ]
  },
  {
   "cell_type": "code",
   "execution_count": 11,
   "id": "91c0fc46",
   "metadata": {},
   "outputs": [],
   "source": [
    "#Encoder will take a char & returns its encoded number\n",
    "#Decoder would do the opposite"
   ]
  },
  {
   "cell_type": "code",
   "execution_count": 12,
   "id": "86e1f397",
   "metadata": {},
   "outputs": [
    {
     "name": "stdout",
     "output_type": "stream",
     "text": [
      "(0, '.')\n",
      "(1, 'm')\n",
      "(2, '7')\n",
      "(3, '8')\n",
      "(4, '[')\n",
      "(5, '(')\n",
      "(6, '|')\n",
      "(7, '-')\n",
      "(8, 'n')\n",
      "(9, '?')\n",
      "(10, 'r')\n",
      "(11, 'd')\n",
      "(12, 'v')\n",
      "(13, 'J')\n",
      "(14, 'O')\n",
      "(15, '}')\n",
      "(16, 'p')\n",
      "(17, 'b')\n",
      "(18, 'S')\n",
      "(19, '_')\n",
      "(20, '0')\n",
      "(21, 'D')\n",
      "(22, 'L')\n",
      "(23, 'q')\n",
      "(24, '&')\n",
      "(25, 'j')\n",
      "(26, 'I')\n",
      "(27, 'w')\n",
      "(28, 'G')\n",
      "(29, 'l')\n",
      "(30, '>')\n",
      "(31, 'P')\n",
      "(32, \"'\")\n",
      "(33, '\"')\n",
      "(34, '3')\n",
      "(35, ')')\n",
      "(36, 't')\n",
      "(37, 'R')\n",
      "(38, 'x')\n",
      "(39, '2')\n",
      "(40, 'k')\n",
      "(41, 'U')\n",
      "(42, 'Z')\n",
      "(43, '1')\n",
      "(44, 'a')\n",
      "(45, '4')\n",
      "(46, 'T')\n",
      "(47, 'u')\n",
      "(48, ' ')\n",
      "(49, ']')\n",
      "(50, 'c')\n",
      "(51, 'y')\n",
      "(52, '!')\n",
      "(53, 'M')\n",
      "(54, 'V')\n",
      "(55, 'i')\n",
      "(56, 'H')\n",
      "(57, '<')\n",
      "(58, ':')\n",
      "(59, 'A')\n",
      "(60, ';')\n",
      "(61, 'B')\n",
      "(62, 'C')\n",
      "(63, 'X')\n",
      "(64, '`')\n",
      "(65, '9')\n",
      "(66, '\\n')\n",
      "(67, 's')\n",
      "(68, 'f')\n",
      "(69, 'K')\n",
      "(70, 'N')\n",
      "(71, 'h')\n",
      "(72, 'z')\n",
      "(73, 'Q')\n",
      "(74, 'g')\n",
      "(75, 'o')\n",
      "(76, 'W')\n",
      "(77, 'Y')\n",
      "(78, 'F')\n",
      "(79, 'e')\n",
      "(80, ',')\n",
      "(81, 'E')\n",
      "(82, '5')\n",
      "(83, '6')\n"
     ]
    }
   ],
   "source": [
    "#enumerate(all_characters) would assign number to unique char\n",
    "for pair in enumerate(all_characters):\n",
    "    print(pair)"
   ]
  },
  {
   "cell_type": "code",
   "execution_count": 13,
   "id": "d40eec8c",
   "metadata": {},
   "outputs": [],
   "source": [
    "# num --> Letter\n",
    "decoder = dict(enumerate(all_characters))"
   ]
  },
  {
   "cell_type": "code",
   "execution_count": 14,
   "id": "ef6179b1",
   "metadata": {},
   "outputs": [
    {
     "data": {
      "text/plain": [
       "{0: '.',\n",
       " 1: 'm',\n",
       " 2: '7',\n",
       " 3: '8',\n",
       " 4: '[',\n",
       " 5: '(',\n",
       " 6: '|',\n",
       " 7: '-',\n",
       " 8: 'n',\n",
       " 9: '?',\n",
       " 10: 'r',\n",
       " 11: 'd',\n",
       " 12: 'v',\n",
       " 13: 'J',\n",
       " 14: 'O',\n",
       " 15: '}',\n",
       " 16: 'p',\n",
       " 17: 'b',\n",
       " 18: 'S',\n",
       " 19: '_',\n",
       " 20: '0',\n",
       " 21: 'D',\n",
       " 22: 'L',\n",
       " 23: 'q',\n",
       " 24: '&',\n",
       " 25: 'j',\n",
       " 26: 'I',\n",
       " 27: 'w',\n",
       " 28: 'G',\n",
       " 29: 'l',\n",
       " 30: '>',\n",
       " 31: 'P',\n",
       " 32: \"'\",\n",
       " 33: '\"',\n",
       " 34: '3',\n",
       " 35: ')',\n",
       " 36: 't',\n",
       " 37: 'R',\n",
       " 38: 'x',\n",
       " 39: '2',\n",
       " 40: 'k',\n",
       " 41: 'U',\n",
       " 42: 'Z',\n",
       " 43: '1',\n",
       " 44: 'a',\n",
       " 45: '4',\n",
       " 46: 'T',\n",
       " 47: 'u',\n",
       " 48: ' ',\n",
       " 49: ']',\n",
       " 50: 'c',\n",
       " 51: 'y',\n",
       " 52: '!',\n",
       " 53: 'M',\n",
       " 54: 'V',\n",
       " 55: 'i',\n",
       " 56: 'H',\n",
       " 57: '<',\n",
       " 58: ':',\n",
       " 59: 'A',\n",
       " 60: ';',\n",
       " 61: 'B',\n",
       " 62: 'C',\n",
       " 63: 'X',\n",
       " 64: '`',\n",
       " 65: '9',\n",
       " 66: '\\n',\n",
       " 67: 's',\n",
       " 68: 'f',\n",
       " 69: 'K',\n",
       " 70: 'N',\n",
       " 71: 'h',\n",
       " 72: 'z',\n",
       " 73: 'Q',\n",
       " 74: 'g',\n",
       " 75: 'o',\n",
       " 76: 'W',\n",
       " 77: 'Y',\n",
       " 78: 'F',\n",
       " 79: 'e',\n",
       " 80: ',',\n",
       " 81: 'E',\n",
       " 82: '5',\n",
       " 83: '6'}"
      ]
     },
     "execution_count": 14,
     "metadata": {},
     "output_type": "execute_result"
    }
   ],
   "source": [
    "decoder"
   ]
  },
  {
   "cell_type": "code",
   "execution_count": 15,
   "id": "7efea85a",
   "metadata": {},
   "outputs": [],
   "source": [
    "#Letter --> num\n",
    "encoder = {char: ind for ind,char in decoder.items()}"
   ]
  },
  {
   "cell_type": "code",
   "execution_count": 16,
   "id": "3536b86f",
   "metadata": {},
   "outputs": [
    {
     "data": {
      "text/plain": [
       "{'.': 0,\n",
       " 'm': 1,\n",
       " '7': 2,\n",
       " '8': 3,\n",
       " '[': 4,\n",
       " '(': 5,\n",
       " '|': 6,\n",
       " '-': 7,\n",
       " 'n': 8,\n",
       " '?': 9,\n",
       " 'r': 10,\n",
       " 'd': 11,\n",
       " 'v': 12,\n",
       " 'J': 13,\n",
       " 'O': 14,\n",
       " '}': 15,\n",
       " 'p': 16,\n",
       " 'b': 17,\n",
       " 'S': 18,\n",
       " '_': 19,\n",
       " '0': 20,\n",
       " 'D': 21,\n",
       " 'L': 22,\n",
       " 'q': 23,\n",
       " '&': 24,\n",
       " 'j': 25,\n",
       " 'I': 26,\n",
       " 'w': 27,\n",
       " 'G': 28,\n",
       " 'l': 29,\n",
       " '>': 30,\n",
       " 'P': 31,\n",
       " \"'\": 32,\n",
       " '\"': 33,\n",
       " '3': 34,\n",
       " ')': 35,\n",
       " 't': 36,\n",
       " 'R': 37,\n",
       " 'x': 38,\n",
       " '2': 39,\n",
       " 'k': 40,\n",
       " 'U': 41,\n",
       " 'Z': 42,\n",
       " '1': 43,\n",
       " 'a': 44,\n",
       " '4': 45,\n",
       " 'T': 46,\n",
       " 'u': 47,\n",
       " ' ': 48,\n",
       " ']': 49,\n",
       " 'c': 50,\n",
       " 'y': 51,\n",
       " '!': 52,\n",
       " 'M': 53,\n",
       " 'V': 54,\n",
       " 'i': 55,\n",
       " 'H': 56,\n",
       " '<': 57,\n",
       " ':': 58,\n",
       " 'A': 59,\n",
       " ';': 60,\n",
       " 'B': 61,\n",
       " 'C': 62,\n",
       " 'X': 63,\n",
       " '`': 64,\n",
       " '9': 65,\n",
       " '\\n': 66,\n",
       " 's': 67,\n",
       " 'f': 68,\n",
       " 'K': 69,\n",
       " 'N': 70,\n",
       " 'h': 71,\n",
       " 'z': 72,\n",
       " 'Q': 73,\n",
       " 'g': 74,\n",
       " 'o': 75,\n",
       " 'W': 76,\n",
       " 'Y': 77,\n",
       " 'F': 78,\n",
       " 'e': 79,\n",
       " ',': 80,\n",
       " 'E': 81,\n",
       " '5': 82,\n",
       " '6': 83}"
      ]
     },
     "execution_count": 16,
     "metadata": {},
     "output_type": "execute_result"
    }
   ],
   "source": [
    "encoder"
   ]
  },
  {
   "cell_type": "code",
   "execution_count": 17,
   "id": "00dedc0d",
   "metadata": {},
   "outputs": [],
   "source": [
    "#ensure encoder & decoder match -->represent the same char with num"
   ]
  },
  {
   "cell_type": "code",
   "execution_count": 18,
   "id": "d03ac2f2",
   "metadata": {},
   "outputs": [],
   "source": [
    "# take all txt & encode it so it has numerical info aspect to it\n",
    "encoded_text = np.array([encoder[char] for char in text])"
   ]
  },
  {
   "cell_type": "code",
   "execution_count": 19,
   "id": "803a3dca",
   "metadata": {},
   "outputs": [
    {
     "data": {
      "text/plain": [
       "array([66, 48, 48, 48, 48, 48, 48, 48, 48, 48, 48, 48, 48, 48, 48, 48, 48,\n",
       "       48, 48, 48, 48, 48, 43, 66, 48, 48, 78, 10, 75,  1, 48, 68, 44, 55,\n",
       "       10, 79, 67, 36, 48, 50, 10, 79, 44, 36, 47, 10, 79, 67, 48, 27, 79,\n",
       "       48, 11, 79, 67, 55, 10, 79, 48, 55,  8, 50, 10, 79, 44, 67, 79, 80,\n",
       "       66, 48, 48, 46, 71, 44, 36, 48, 36, 71, 79, 10, 79, 17, 51, 48, 17,\n",
       "       79, 44, 47, 36, 51, 32, 67, 48, 10, 75, 67, 79, 48,  1, 55, 74, 71,\n",
       "       36, 48,  8, 79, 12, 79, 10, 48, 11, 55, 79, 80, 66, 48, 48, 61, 47,\n",
       "       36, 48, 44, 67, 48, 36, 71, 79, 48, 10, 55, 16, 79, 10, 48, 67, 71,\n",
       "       75, 47, 29, 11, 48, 17, 51, 48, 36, 55,  1, 79, 48, 11, 79, 50, 79,\n",
       "       44, 67, 79, 80, 66, 48, 48, 56, 55, 67, 48, 36, 79,  8, 11, 79, 10,\n",
       "       48, 71, 79, 55, 10, 48,  1, 55, 74, 71, 36, 48, 17, 79, 44, 10, 48,\n",
       "       71, 55, 67, 48,  1, 79,  1, 75, 10, 51, 58, 66, 48, 48, 61, 47, 36,\n",
       "       48, 36, 71, 75, 47, 48, 50, 75,  8, 36, 10, 44, 50, 36, 79, 11, 48,\n",
       "       36, 75, 48, 36, 71, 55,  8, 79, 48, 75, 27,  8, 48, 17, 10, 55, 74,\n",
       "       71, 36, 48, 79, 51, 79, 67, 80, 66, 48, 48, 78, 79, 79, 11, 32, 67,\n",
       "       36, 48, 36, 71, 51, 48, 29, 55, 74, 71, 36, 32, 67, 48, 68, 29, 44,\n",
       "        1, 79, 48, 27, 55, 36, 71, 48, 67, 79, 29, 68,  7, 67, 47, 17, 67,\n",
       "       36, 44,  8, 36, 55, 44, 29, 48, 68, 47, 79, 29, 80, 66, 48, 48, 53,\n",
       "       44, 40, 55,  8, 74, 48, 44, 48, 68, 44,  1, 55,  8, 79, 48, 27, 71,\n",
       "       79, 10, 79, 48, 44, 17, 47,  8, 11, 44,  8, 50, 79, 48, 29, 55, 79,\n",
       "       67, 80, 66, 48, 48, 46, 71, 51, 48, 67, 79, 29, 68, 48, 36, 71, 51,\n",
       "       48, 68, 75, 79, 80, 48, 36, 75, 48, 36, 71, 51, 48, 67, 27, 79, 79,\n",
       "       36, 48, 67, 79, 29, 68, 48, 36, 75, 75, 48, 50, 10, 47, 79, 29, 58,\n",
       "       66, 48, 48, 46, 71, 75, 47, 48, 36, 71, 44, 36, 48, 44, 10, 36, 48,\n",
       "        8, 75, 27, 48, 36, 71, 79, 48, 27, 75, 10, 29, 11, 32, 67, 48, 68,\n",
       "       10, 79, 67, 71, 48, 75, 10,  8, 44,  1, 79,  8, 36, 80, 66, 48, 48,\n",
       "       59,  8, 11, 48, 75,  8, 29, 51, 48, 71, 79, 10, 44, 29, 11, 48, 36,\n",
       "       75, 48, 36, 71, 79, 48, 74, 44, 47, 11, 51, 48, 67, 16, 10, 55,  8,\n",
       "       74, 80, 66, 48, 48, 76, 55, 36, 71, 55,  8, 48, 36, 71, 55,  8, 79,\n",
       "       48, 75, 27,  8, 48, 17, 47])"
      ]
     },
     "execution_count": 19,
     "metadata": {},
     "output_type": "execute_result"
    }
   ],
   "source": [
    "encoded_text[:500]"
   ]
  },
  {
   "cell_type": "code",
   "execution_count": 20,
   "id": "e0e7b228",
   "metadata": {},
   "outputs": [],
   "source": [
    "#----------------------------One Hot Encoding-------------------------------\n",
    "#we need to one-hot encode our data inorder for it to work with the network structure. \n",
    "def one_hot_encoder(encoded_text, num_uni_chars):\n",
    "    #encode_text --> batch of encoded text\n",
    "    #num_uni_chars --> len(set(text))\n",
    "    \n",
    "    \n",
    "    '''\n",
    "    encoded_text : batch of encoded text\n",
    "    \n",
    "    num_uni_chars = number of unique characters (len(set(text)))\n",
    "    '''\n",
    "    \n",
    "    # METHOD FROM:\n",
    "    # https://stackoverflow.com/questions/29831489/convert-encoded_textay-of-indices-to-1-hot-encoded-numpy-encoded_textay\n",
    "      \n",
    "    # Create a placeholder for zeros.\n",
    "    one_hot = np.zeros((encoded_text.size, num_uni_chars))\n",
    "    \n",
    "    # Convert data type for later use with pytorch (errors if we dont!)\n",
    "    one_hot = one_hot.astype(np.float32)\n",
    "\n",
    "    # Using fancy indexing fill in the 1s at the correct index locations\n",
    "    one_hot[np.arange(one_hot.shape[0]), encoded_text.flatten()] = 1.0\n",
    "    \n",
    "\n",
    "    # Reshape it so it matches the batch sahe\n",
    "    one_hot = one_hot.reshape((*encoded_text.shape, num_uni_chars))\n",
    "    \n",
    "    return one_hot"
   ]
  },
  {
   "cell_type": "code",
   "execution_count": 21,
   "id": "0a47774b",
   "metadata": {},
   "outputs": [],
   "source": [
    "arr = np.array([1,2,0])"
   ]
  },
  {
   "cell_type": "code",
   "execution_count": 22,
   "id": "02ae69f6",
   "metadata": {},
   "outputs": [
    {
     "data": {
      "text/plain": [
       "array([1, 2, 0])"
      ]
     },
     "execution_count": 22,
     "metadata": {},
     "output_type": "execute_result"
    }
   ],
   "source": [
    "arr"
   ]
  },
  {
   "cell_type": "code",
   "execution_count": 23,
   "id": "012afeb9",
   "metadata": {},
   "outputs": [
    {
     "data": {
      "text/plain": [
       "array([[0., 1., 0.],\n",
       "       [0., 0., 1.],\n",
       "       [1., 0., 0.]], dtype=float32)"
      ]
     },
     "execution_count": 23,
     "metadata": {},
     "output_type": "execute_result"
    }
   ],
   "source": [
    "one_hot_encoder(arr,3)"
   ]
  },
  {
   "cell_type": "code",
   "execution_count": null,
   "id": "374109e7",
   "metadata": {},
   "outputs": [],
   "source": []
  },
  {
   "cell_type": "code",
   "execution_count": null,
   "id": "81d80d73",
   "metadata": {},
   "outputs": [],
   "source": []
  },
  {
   "cell_type": "code",
   "execution_count": 24,
   "id": "51498742",
   "metadata": {},
   "outputs": [],
   "source": [
    "#----------------------------Creating Training Batches----------------------\n",
    "#create a function that will generate batches of characters along with the next character in the sequence as a label\n",
    "example_text = np.arange(10)"
   ]
  },
  {
   "cell_type": "code",
   "execution_count": 25,
   "id": "a6fd3041",
   "metadata": {},
   "outputs": [
    {
     "data": {
      "text/plain": [
       "array([0, 1, 2, 3, 4, 5, 6, 7, 8, 9])"
      ]
     },
     "execution_count": 25,
     "metadata": {},
     "output_type": "execute_result"
    }
   ],
   "source": [
    "example_text"
   ]
  },
  {
   "cell_type": "code",
   "execution_count": 26,
   "id": "c8234917",
   "metadata": {},
   "outputs": [
    {
     "data": {
      "text/plain": [
       "array([[0, 1],\n",
       "       [2, 3],\n",
       "       [4, 5],\n",
       "       [6, 7],\n",
       "       [8, 9]])"
      ]
     },
     "execution_count": 26,
     "metadata": {},
     "output_type": "execute_result"
    }
   ],
   "source": [
    "# If we wanted 5 batches\n",
    "example_text.reshape((5,-1))"
   ]
  },
  {
   "cell_type": "code",
   "execution_count": 27,
   "id": "40e5366c",
   "metadata": {},
   "outputs": [],
   "source": [
    "def generate_batches(encoded_text, samp_per_batch=10, seq_len=50):\n",
    "    \n",
    "    '''\n",
    "    Generate (using yield) batches for training.\n",
    "    \n",
    "    X: Encoded Text of length seq_len\n",
    "    Y: Encoded Text shifted by one\n",
    "    \n",
    "    Example:\n",
    "    \n",
    "    X:\n",
    "    \n",
    "    [[1 2 3]]\n",
    "    \n",
    "    Y:\n",
    "    \n",
    "    [[ 2 3 4]]\n",
    "    \n",
    "    encoded_text : Complete Encoded Text to make batches from\n",
    "    batch_size : Number of samples per batch\n",
    "    seq_len : Length of character sequence\n",
    "       \n",
    "    '''\n",
    "    \n",
    "    # Total number of characters per batch\n",
    "    # Example: If samp_per_batch is 2 and seq_len is 50, then 100\n",
    "    # characters come out per batch.\n",
    "    char_per_batch = samp_per_batch * seq_len\n",
    "    \n",
    "    \n",
    "    # Number of batches available to make\n",
    "    # Use int() to roun to nearest integer\n",
    "    num_batches_avail = int(len(encoded_text)/char_per_batch)\n",
    "    \n",
    "    # Cut off end of encoded_text that\n",
    "    # won't fit evenly into a batch\n",
    "    encoded_text = encoded_text[:num_batches_avail * char_per_batch]\n",
    "    \n",
    "    \n",
    "    # Reshape text into rows the size of a batch\n",
    "    encoded_text = encoded_text.reshape((samp_per_batch, -1))\n",
    "    \n",
    "\n",
    "    # Go through each row in array.\n",
    "    for n in range(0, encoded_text.shape[1], seq_len):\n",
    "        \n",
    "        # Grab feature characters\n",
    "        x = encoded_text[:, n:n+seq_len]\n",
    "        \n",
    "        # y is the target shifted over by 1\n",
    "        y = np.zeros_like(x)\n",
    "       \n",
    "        #\n",
    "        try:\n",
    "            y[:, :-1] = x[:, 1:]\n",
    "            y[:, -1]  = encoded_text[:, n+seq_len]\n",
    "            \n",
    "        # FOR POTENTIAL INDEXING ERROR AT THE END    \n",
    "        except:\n",
    "            y[:, :-1] = x[:, 1:]\n",
    "            y[:, -1] = encoded_text[:, 0]\n",
    "            \n",
    "        yield x, y"
   ]
  },
  {
   "cell_type": "code",
   "execution_count": 34,
   "id": "f83b0f79",
   "metadata": {},
   "outputs": [],
   "source": [
    "#----------------------Example of generating a batch-----------------------\n",
    "sample_text = np.arange(20)"
   ]
  },
  {
   "cell_type": "code",
   "execution_count": 35,
   "id": "49329816",
   "metadata": {},
   "outputs": [
    {
     "data": {
      "text/plain": [
       "array([ 0,  1,  2,  3,  4,  5,  6,  7,  8,  9, 10, 11, 12, 13, 14, 15, 16,\n",
       "       17, 18, 19])"
      ]
     },
     "execution_count": 35,
     "metadata": {},
     "output_type": "execute_result"
    }
   ],
   "source": [
    "sample_text"
   ]
  },
  {
   "cell_type": "code",
   "execution_count": 36,
   "id": "5469a790",
   "metadata": {},
   "outputs": [],
   "source": [
    "batch_generator = generate_batches(sample_text,samp_per_batch=2,seq_len=5)"
   ]
  },
  {
   "cell_type": "code",
   "execution_count": 37,
   "id": "b4aba4f0",
   "metadata": {},
   "outputs": [],
   "source": [
    "# Grab first batch\n",
    "x, y = next(batch_generator)"
   ]
  },
  {
   "cell_type": "code",
   "execution_count": 38,
   "id": "4ed5f80f",
   "metadata": {},
   "outputs": [
    {
     "data": {
      "text/plain": [
       "array([[ 0,  1,  2,  3,  4],\n",
       "       [10, 11, 12, 13, 14]])"
      ]
     },
     "execution_count": 38,
     "metadata": {},
     "output_type": "execute_result"
    }
   ],
   "source": [
    "x"
   ]
  },
  {
   "cell_type": "code",
   "execution_count": 39,
   "id": "a5074cca",
   "metadata": {},
   "outputs": [
    {
     "data": {
      "text/plain": [
       "array([[ 1,  2,  3,  4,  5],\n",
       "       [11, 12, 13, 14, 15]])"
      ]
     },
     "execution_count": 39,
     "metadata": {},
     "output_type": "execute_result"
    }
   ],
   "source": [
    "y"
   ]
  },
  {
   "cell_type": "code",
   "execution_count": null,
   "id": "4577ad61",
   "metadata": {},
   "outputs": [],
   "source": []
  }
 ],
 "metadata": {
  "kernelspec": {
   "display_name": "Python 3",
   "language": "python",
   "name": "python3"
  },
  "language_info": {
   "codemirror_mode": {
    "name": "ipython",
    "version": 3
   },
   "file_extension": ".py",
   "mimetype": "text/x-python",
   "name": "python",
   "nbconvert_exporter": "python",
   "pygments_lexer": "ipython3",
   "version": "3.7.3"
  }
 },
 "nbformat": 4,
 "nbformat_minor": 5
}
